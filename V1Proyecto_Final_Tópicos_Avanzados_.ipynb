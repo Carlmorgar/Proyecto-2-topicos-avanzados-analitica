{
  "cells": [
    {
      "cell_type": "markdown",
      "metadata": {
        "id": "KS86MhU_fetJ"
      },
      "source": [
        "# Tópicos Avanzados\n",
        "## Proyecto 2\n",
        "\n",
        "**Autores:** Andrés Parra, Ian Nicolás Rincón, John Sebastián Martínez, Carlos Mora, Rosemary Ríos\n",
        "\n",
        "### Descripción del Proyecto\n",
        "\n",
        "El modelo busca clasificar 10 categorías de productos. Los nodos representan bienes y los bordes representan que dos bienes frecuentemente se compran juntos. Considerando las reseñas de productos como características del nodo de una bolsa de palabras. La reseña la encontramos en el siguiente [link](https://pytorch-geometric.readthedocs.io/en/latest/generated/torch_geometric.datasets.Amazon.html?highlight=amazon).\n",
        "\n",
        "- Node2Vect\n",
        "- Deep Walk\n",
        "- Graph Neural Network\n",
        "- Graph convolutional network\n",
        "- Graph atention network\n",
        "\n",
        "Se instala varios paquetes de PyTorch Geometric, que es una extensión de PyTorch para el aprendizaje sobre gráficos. Ademas se aplica unas semillas para trabajar en el generador de números aleatorios en la GPU"
      ]
    },
    {
      "cell_type": "code",
      "source": [
        "# Correr para instalar, en caso de ser necesario\n",
        "!pip install torch torchvision\n",
        "!pip install torch-geometric"
      ],
      "metadata": {
        "id": "VCwoYdfqRMzy",
        "colab": {
          "base_uri": "https://localhost:8080/"
        },
        "outputId": "0fdaebeb-f7da-4d35-c16d-6d3b663e2d1f"
      },
      "execution_count": 1,
      "outputs": [
        {
          "output_type": "stream",
          "name": "stdout",
          "text": [
            "Requirement already satisfied: torch in /usr/local/lib/python3.10/dist-packages (2.3.0+cu121)\n",
            "Requirement already satisfied: torchvision in /usr/local/lib/python3.10/dist-packages (0.18.0+cu121)\n",
            "Requirement already satisfied: filelock in /usr/local/lib/python3.10/dist-packages (from torch) (3.14.0)\n",
            "Requirement already satisfied: typing-extensions>=4.8.0 in /usr/local/lib/python3.10/dist-packages (from torch) (4.11.0)\n",
            "Requirement already satisfied: sympy in /usr/local/lib/python3.10/dist-packages (from torch) (1.12)\n",
            "Requirement already satisfied: networkx in /usr/local/lib/python3.10/dist-packages (from torch) (3.3)\n",
            "Requirement already satisfied: jinja2 in /usr/local/lib/python3.10/dist-packages (from torch) (3.1.4)\n",
            "Requirement already satisfied: fsspec in /usr/local/lib/python3.10/dist-packages (from torch) (2023.6.0)\n",
            "Collecting nvidia-cuda-nvrtc-cu12==12.1.105 (from torch)\n",
            "  Using cached nvidia_cuda_nvrtc_cu12-12.1.105-py3-none-manylinux1_x86_64.whl (23.7 MB)\n",
            "Collecting nvidia-cuda-runtime-cu12==12.1.105 (from torch)\n",
            "  Using cached nvidia_cuda_runtime_cu12-12.1.105-py3-none-manylinux1_x86_64.whl (823 kB)\n",
            "Collecting nvidia-cuda-cupti-cu12==12.1.105 (from torch)\n",
            "  Using cached nvidia_cuda_cupti_cu12-12.1.105-py3-none-manylinux1_x86_64.whl (14.1 MB)\n",
            "Collecting nvidia-cudnn-cu12==8.9.2.26 (from torch)\n",
            "  Using cached nvidia_cudnn_cu12-8.9.2.26-py3-none-manylinux1_x86_64.whl (731.7 MB)\n",
            "Collecting nvidia-cublas-cu12==12.1.3.1 (from torch)\n",
            "  Using cached nvidia_cublas_cu12-12.1.3.1-py3-none-manylinux1_x86_64.whl (410.6 MB)\n",
            "Collecting nvidia-cufft-cu12==11.0.2.54 (from torch)\n",
            "  Using cached nvidia_cufft_cu12-11.0.2.54-py3-none-manylinux1_x86_64.whl (121.6 MB)\n",
            "Collecting nvidia-curand-cu12==10.3.2.106 (from torch)\n",
            "  Using cached nvidia_curand_cu12-10.3.2.106-py3-none-manylinux1_x86_64.whl (56.5 MB)\n",
            "Collecting nvidia-cusolver-cu12==11.4.5.107 (from torch)\n",
            "  Using cached nvidia_cusolver_cu12-11.4.5.107-py3-none-manylinux1_x86_64.whl (124.2 MB)\n",
            "Collecting nvidia-cusparse-cu12==12.1.0.106 (from torch)\n",
            "  Using cached nvidia_cusparse_cu12-12.1.0.106-py3-none-manylinux1_x86_64.whl (196.0 MB)\n",
            "Collecting nvidia-nccl-cu12==2.20.5 (from torch)\n",
            "  Using cached nvidia_nccl_cu12-2.20.5-py3-none-manylinux2014_x86_64.whl (176.2 MB)\n",
            "Collecting nvidia-nvtx-cu12==12.1.105 (from torch)\n",
            "  Using cached nvidia_nvtx_cu12-12.1.105-py3-none-manylinux1_x86_64.whl (99 kB)\n",
            "Requirement already satisfied: triton==2.3.0 in /usr/local/lib/python3.10/dist-packages (from torch) (2.3.0)\n",
            "Collecting nvidia-nvjitlink-cu12 (from nvidia-cusolver-cu12==11.4.5.107->torch)\n",
            "  Downloading nvidia_nvjitlink_cu12-12.5.40-py3-none-manylinux2014_x86_64.whl (21.3 MB)\n",
            "\u001b[2K     \u001b[90m━━━━━━━━━━━━━━━━━━━━━━━━━━━━━━━━━━━━━━━━\u001b[0m \u001b[32m21.3/21.3 MB\u001b[0m \u001b[31m55.3 MB/s\u001b[0m eta \u001b[36m0:00:00\u001b[0m\n",
            "\u001b[?25hRequirement already satisfied: numpy in /usr/local/lib/python3.10/dist-packages (from torchvision) (1.25.2)\n",
            "Requirement already satisfied: pillow!=8.3.*,>=5.3.0 in /usr/local/lib/python3.10/dist-packages (from torchvision) (9.4.0)\n",
            "Requirement already satisfied: MarkupSafe>=2.0 in /usr/local/lib/python3.10/dist-packages (from jinja2->torch) (2.1.5)\n",
            "Requirement already satisfied: mpmath>=0.19 in /usr/local/lib/python3.10/dist-packages (from sympy->torch) (1.3.0)\n",
            "Installing collected packages: nvidia-nvtx-cu12, nvidia-nvjitlink-cu12, nvidia-nccl-cu12, nvidia-curand-cu12, nvidia-cufft-cu12, nvidia-cuda-runtime-cu12, nvidia-cuda-nvrtc-cu12, nvidia-cuda-cupti-cu12, nvidia-cublas-cu12, nvidia-cusparse-cu12, nvidia-cudnn-cu12, nvidia-cusolver-cu12\n",
            "Successfully installed nvidia-cublas-cu12-12.1.3.1 nvidia-cuda-cupti-cu12-12.1.105 nvidia-cuda-nvrtc-cu12-12.1.105 nvidia-cuda-runtime-cu12-12.1.105 nvidia-cudnn-cu12-8.9.2.26 nvidia-cufft-cu12-11.0.2.54 nvidia-curand-cu12-10.3.2.106 nvidia-cusolver-cu12-11.4.5.107 nvidia-cusparse-cu12-12.1.0.106 nvidia-nccl-cu12-2.20.5 nvidia-nvjitlink-cu12-12.5.40 nvidia-nvtx-cu12-12.1.105\n",
            "Collecting torch-geometric\n",
            "  Downloading torch_geometric-2.5.3-py3-none-any.whl (1.1 MB)\n",
            "\u001b[2K     \u001b[90m━━━━━━━━━━━━━━━━━━━━━━━━━━━━━━━━━━━━━━━━\u001b[0m \u001b[32m1.1/1.1 MB\u001b[0m \u001b[31m8.5 MB/s\u001b[0m eta \u001b[36m0:00:00\u001b[0m\n",
            "\u001b[?25hRequirement already satisfied: tqdm in /usr/local/lib/python3.10/dist-packages (from torch-geometric) (4.66.4)\n",
            "Requirement already satisfied: numpy in /usr/local/lib/python3.10/dist-packages (from torch-geometric) (1.25.2)\n",
            "Requirement already satisfied: scipy in /usr/local/lib/python3.10/dist-packages (from torch-geometric) (1.11.4)\n",
            "Requirement already satisfied: fsspec in /usr/local/lib/python3.10/dist-packages (from torch-geometric) (2023.6.0)\n",
            "Requirement already satisfied: jinja2 in /usr/local/lib/python3.10/dist-packages (from torch-geometric) (3.1.4)\n",
            "Requirement already satisfied: aiohttp in /usr/local/lib/python3.10/dist-packages (from torch-geometric) (3.9.5)\n",
            "Requirement already satisfied: requests in /usr/local/lib/python3.10/dist-packages (from torch-geometric) (2.31.0)\n",
            "Requirement already satisfied: pyparsing in /usr/local/lib/python3.10/dist-packages (from torch-geometric) (3.1.2)\n",
            "Requirement already satisfied: scikit-learn in /usr/local/lib/python3.10/dist-packages (from torch-geometric) (1.2.2)\n",
            "Requirement already satisfied: psutil>=5.8.0 in /usr/local/lib/python3.10/dist-packages (from torch-geometric) (5.9.5)\n",
            "Requirement already satisfied: aiosignal>=1.1.2 in /usr/local/lib/python3.10/dist-packages (from aiohttp->torch-geometric) (1.3.1)\n",
            "Requirement already satisfied: attrs>=17.3.0 in /usr/local/lib/python3.10/dist-packages (from aiohttp->torch-geometric) (23.2.0)\n",
            "Requirement already satisfied: frozenlist>=1.1.1 in /usr/local/lib/python3.10/dist-packages (from aiohttp->torch-geometric) (1.4.1)\n",
            "Requirement already satisfied: multidict<7.0,>=4.5 in /usr/local/lib/python3.10/dist-packages (from aiohttp->torch-geometric) (6.0.5)\n",
            "Requirement already satisfied: yarl<2.0,>=1.0 in /usr/local/lib/python3.10/dist-packages (from aiohttp->torch-geometric) (1.9.4)\n",
            "Requirement already satisfied: async-timeout<5.0,>=4.0 in /usr/local/lib/python3.10/dist-packages (from aiohttp->torch-geometric) (4.0.3)\n",
            "Requirement already satisfied: MarkupSafe>=2.0 in /usr/local/lib/python3.10/dist-packages (from jinja2->torch-geometric) (2.1.5)\n",
            "Requirement already satisfied: charset-normalizer<4,>=2 in /usr/local/lib/python3.10/dist-packages (from requests->torch-geometric) (3.3.2)\n",
            "Requirement already satisfied: idna<4,>=2.5 in /usr/local/lib/python3.10/dist-packages (from requests->torch-geometric) (3.7)\n",
            "Requirement already satisfied: urllib3<3,>=1.21.1 in /usr/local/lib/python3.10/dist-packages (from requests->torch-geometric) (2.0.7)\n",
            "Requirement already satisfied: certifi>=2017.4.17 in /usr/local/lib/python3.10/dist-packages (from requests->torch-geometric) (2024.2.2)\n",
            "Requirement already satisfied: joblib>=1.1.1 in /usr/local/lib/python3.10/dist-packages (from scikit-learn->torch-geometric) (1.4.2)\n",
            "Requirement already satisfied: threadpoolctl>=2.0.0 in /usr/local/lib/python3.10/dist-packages (from scikit-learn->torch-geometric) (3.5.0)\n",
            "Installing collected packages: torch-geometric\n",
            "Successfully installed torch-geometric-2.5.3\n"
          ]
        }
      ]
    },
    {
      "cell_type": "markdown",
      "metadata": {
        "id": "B6e4kzXsRGzt"
      },
      "source": [
        "## 0. Exploracion y analisis"
      ]
    },
    {
      "cell_type": "markdown",
      "metadata": {
        "id": "StOQOAE3fetO"
      },
      "source": [
        "### Grafica de grafo"
      ]
    },
    {
      "cell_type": "markdown",
      "metadata": {
        "id": "Dcd5GFHmd58I"
      },
      "source": [
        "Cada nodo en el gráfico representa un accesorio para computadores, y una arista entre dos nodos indica que los productos son frecuentemente comprados juntos. Los atributos de los nodos representan diversas características de los productos."
      ]
    },
    {
      "cell_type": "code",
      "execution_count": 2,
      "metadata": {
        "id": "uErLKbOvRGzu",
        "colab": {
          "base_uri": "https://localhost:8080/"
        },
        "outputId": "11d57642-dbdb-4cb8-db2d-b3c6b0edea9c"
      },
      "outputs": [
        {
          "output_type": "execute_result",
          "data": {
            "text/plain": [
              "device(type='cuda')"
            ]
          },
          "metadata": {},
          "execution_count": 2
        }
      ],
      "source": [
        "import os.path as osp\n",
        "import torch\n",
        "import pandas as pd\n",
        "from torch_geometric.datasets import Amazon\n",
        "import torch_geometric.transforms as T\n",
        "import numpy as np\n",
        "import random\n",
        "from itertools import product\n",
        "import matplotlib.pyplot as plt\n",
        "import seaborn as sns\n",
        "\n",
        "torch.manual_seed(1)\n",
        "torch.cuda.manual_seed(1)\n",
        "torch.cuda.manual_seed_all(1)\n",
        "torch.backends.cudnn.deterministic = True\n",
        "torch.backends.cudnn.benchmark = False\n",
        "\n",
        "device = torch.device('cuda' if torch.cuda.is_available() else 'cpu')\n",
        "device"
      ]
    },
    {
      "cell_type": "code",
      "execution_count": 3,
      "metadata": {
        "id": "q5tcGi_7RGzv",
        "colab": {
          "base_uri": "https://localhost:8080/"
        },
        "outputId": "64209944-46c1-4009-e1ec-471108a69c9c"
      },
      "outputs": [
        {
          "output_type": "stream",
          "name": "stderr",
          "text": [
            "Downloading https://github.com/shchur/gnn-benchmark/raw/master/data/npz/amazon_electronics_computers.npz\n",
            "Processing...\n"
          ]
        },
        {
          "output_type": "stream",
          "name": "stdout",
          "text": [
            "Data(x=[13752, 767], edge_index=[2, 491722], y=[13752])\n"
          ]
        },
        {
          "output_type": "stream",
          "name": "stderr",
          "text": [
            "Done!\n",
            "/usr/local/lib/python3.10/dist-packages/torch_geometric/data/in_memory_dataset.py:300: UserWarning: It is not recommended to directly access the internal storage format `data` of an 'InMemoryDataset'. If you are absolutely certain what you are doing, access the internal storage via `InMemoryDataset._data` instead to suppress this warning. Alternatively, you can access stacked individual attributes of every graph via `dataset.{attr_name}`.\n",
            "  warnings.warn(msg)\n"
          ]
        }
      ],
      "source": [
        "# Carga del dataset\n",
        "path = osp.join('.', 'data', 'Computers', 'Computers')\n",
        "dataset = Amazon(path, 'Computers', transform=T.NormalizeFeatures())\n",
        "data = dataset[0]\n",
        "print(dataset.data)"
      ]
    },
    {
      "cell_type": "code",
      "execution_count": 4,
      "metadata": {
        "colab": {
          "base_uri": "https://localhost:8080/",
          "height": 730
        },
        "id": "s9qXLHlDfetO",
        "outputId": "df1c9f4d-49d4-42bf-8326-bf4b5c12400a"
      },
      "outputs": [
        {
          "output_type": "display_data",
          "data": {
            "text/plain": [
              "<Figure size 1500x900 with 1 Axes>"
            ],
            "image/png": "[encoded data removed]"
          },
          "metadata": {}
        }
      ],
      "source": [
        "import networkx as nx\n",
        "import matplotlib.pyplot as plt\n",
        "# Extract edge information from the dataset\n",
        "edge_index = dataset[0].edge_index.tolist()\n",
        "\n",
        "# Create a pandas DataFrame with the edge information\n",
        "df = pd.DataFrame({\n",
        "    'start_node': edge_index[0],\n",
        "    'end_node': edge_index[1]\n",
        "})\n",
        "\n",
        "# Create a NetworkX graph from the DataFrame\n",
        "G = nx.from_pandas_edgelist(df, \"start_node\", \"end_node\")\n",
        "\n",
        "# Define plot options (optional)\n",
        "plot_options = {\n",
        "    'node_color': 'lightblue',\n",
        "    'node_size': 50,\n",
        "    'edge_color': 'gray',\n",
        "    'linewidths': 0.5,\n",
        "    'width': 0.5,\n",
        "    'with_labels': False\n",
        "}\n",
        "\n",
        "# Compute the layout of the graph\n",
        "pos = nx.spring_layout(G, iterations=15, seed=1721)\n",
        "\n",
        "# Visualize the graph using NetworkX\n",
        "fig, ax = plt.subplots(figsize=(15, 9))\n",
        "ax.axis(\"off\")\n",
        "nx.draw_networkx(G, pos=pos, ax=ax, **plot_options)\n",
        "plt.show()"
      ]
    },
    {
      "cell_type": "markdown",
      "metadata": {
        "id": "RPEeJgAUgb9R"
      },
      "source": [
        "Se presentan 491722 posibles combinaciones de productos relacionados a los computadores donde se presenta 2 columnas que indica un producto en cada columna y el registro muestra la relación entre estos productos para ver si son complementarios o sustitutos"
      ]
    },
    {
      "cell_type": "code",
      "execution_count": 5,
      "metadata": {
        "colab": {
          "base_uri": "https://localhost:8080/",
          "height": 423
        },
        "id": "RXFRTzkypqgB",
        "outputId": "5102c685-ac8c-4a88-da1f-ffe0eeb2e2f4"
      },
      "outputs": [
        {
          "output_type": "execute_result",
          "data": {
            "text/plain": [
              "        start_node  end_node\n",
              "0                0       507\n",
              "1                0      6551\n",
              "2                0      8210\n",
              "3                0      9745\n",
              "4                1       184\n",
              "...            ...       ...\n",
              "491717       13751     12081\n",
              "491718       13751     12479\n",
              "491719       13751     12751\n",
              "491720       13751     13019\n",
              "491721       13751     13121\n",
              "\n",
              "[491722 rows x 2 columns]"
            ],
            "text/html": [
              "\n",
              "  <div id=\"df-8e557b8e-3ced-4f86-9b78-35af12a82297\" class=\"colab-df-container\">\n",
              "    <div>\n",
              "<style scoped>\n",
              "    .dataframe tbody tr th:only-of-type {\n",
              "        vertical-align: middle;\n",
              "    }\n",
              "\n",
              "    .dataframe tbody tr th {\n",
              "        vertical-align: top;\n",
              "    }\n",
              "\n",
              "    .dataframe thead th {\n",
              "        text-align: right;\n",
              "    }\n",
              "</style>\n",
              "<table border=\"1\" class=\"dataframe\">\n",
              "  <thead>\n",
              "    <tr style=\"text-align: right;\">\n",
              "      <th></th>\n",
              "      <th>start_node</th>\n",
              "      <th>end_node</th>\n",
              "    </tr>\n",
              "  </thead>\n",
              "  <tbody>\n",
              "    <tr>\n",
              "      <th>0</th>\n",
              "      <td>0</td>\n",
              "      <td>507</td>\n",
              "    </tr>\n",
              "    <tr>\n",
              "      <th>1</th>\n",
              "      <td>0</td>\n",
              "      <td>6551</td>\n",
              "    </tr>\n",
              "    <tr>\n",
              "      <th>2</th>\n",
              "      <td>0</td>\n",
              "      <td>8210</td>\n",
              "    </tr>\n",
              "    <tr>\n",
              "      <th>3</th>\n",
              "      <td>0</td>\n",
              "      <td>9745</td>\n",
              "    </tr>\n",
              "    <tr>\n",
              "      <th>4</th>\n",
              "      <td>1</td>\n",
              "      <td>184</td>\n",
              "    </tr>\n",
              "    <tr>\n",
              "      <th>...</th>\n",
              "      <td>...</td>\n",
              "      <td>...</td>\n",
              "    </tr>\n",
              "    <tr>\n",
              "      <th>491717</th>\n",
              "      <td>13751</td>\n",
              "      <td>12081</td>\n",
              "    </tr>\n",
              "    <tr>\n",
              "      <th>491718</th>\n",
              "      <td>13751</td>\n",
              "      <td>12479</td>\n",
              "    </tr>\n",
              "    <tr>\n",
              "      <th>491719</th>\n",
              "      <td>13751</td>\n",
              "      <td>12751</td>\n",
              "    </tr>\n",
              "    <tr>\n",
              "      <th>491720</th>\n",
              "      <td>13751</td>\n",
              "      <td>13019</td>\n",
              "    </tr>\n",
              "    <tr>\n",
              "      <th>491721</th>\n",
              "      <td>13751</td>\n",
              "      <td>13121</td>\n",
              "    </tr>\n",
              "  </tbody>\n",
              "</table>\n",
              "<p>491722 rows × 2 columns</p>\n",
              "</div>\n",
              "    <div class=\"colab-df-buttons\">\n",
              "\n",
              "  <div class=\"colab-df-container\">\n",
              "    <button class=\"colab-df-convert\" onclick=\"convertToInteractive('df-8e557b8e-3ced-4f86-9b78-35af12a82297')\"\n",
              "            title=\"Convert this dataframe to an interactive table.\"\n",
              "            style=\"display:none;\">\n",
              "\n",
              "  <svg xmlns=\"http://www.w3.org/2000/svg\" height=\"24px\" viewBox=\"0 -960 960 960\">\n",
              "    <path d=\"M120-120v-720h720v720H120Zm60-500h600v-160H180v160Zm220 220h160v-160H400v160Zm0 220h160v-160H400v160ZM180-400h160v-160H180v160Zm440 0h160v-160H620v160ZM180-180h160v-160H180v160Zm440 0h160v-160H620v160Z\"/>\n",
              "  </svg>\n",
              "    </button>\n",
              "\n",
              "  <style>\n",
              "    .colab-df-container {\n",
              "      display:flex;\n",
              "      gap: 12px;\n",
              "    }\n",
              "\n",
              "    .colab-df-convert {\n",
              "      background-color: #E8F0FE;\n",
              "      border: none;\n",
              "      border-radius: 50%;\n",
              "      cursor: pointer;\n",
              "      display: none;\n",
              "      fill: #1967D2;\n",
              "      height: 32px;\n",
              "      padding: 0 0 0 0;\n",
              "      width: 32px;\n",
              "    }\n",
              "\n",
              "    .colab-df-convert:hover {\n",
              "      background-color: #E2EBFA;\n",
              "      box-shadow: 0px 1px 2px rgba(60, 64, 67, 0.3), 0px 1px 3px 1px rgba(60, 64, 67, 0.15);\n",
              "      fill: #174EA6;\n",
              "    }\n",
              "\n",
              "    .colab-df-buttons div {\n",
              "      margin-bottom: 4px;\n",
              "    }\n",
              "\n",
              "    [theme=dark] .colab-df-convert {\n",
              "      background-color: #3B4455;\n",
              "      fill: #D2E3FC;\n",
              "    }\n",
              "\n",
              "    [theme=dark] .colab-df-convert:hover {\n",
              "      background-color: #434B5C;\n",
              "      box-shadow: 0px 1px 3px 1px rgba(0, 0, 0, 0.15);\n",
              "      filter: drop-shadow(0px 1px 2px rgba(0, 0, 0, 0.3));\n",
              "      fill: #FFFFFF;\n",
              "    }\n",
              "  </style>\n",
              "\n",
              "    <script>\n",
              "      const buttonEl =\n",
              "        document.querySelector('#df-8e557b8e-3ced-4f86-9b78-35af12a82297 button.colab-df-convert');\n",
              "      buttonEl.style.display =\n",
              "        google.colab.kernel.accessAllowed ? 'block' : 'none';\n",
              "\n",
              "      async function convertToInteractive(key) {\n",
              "        const element = document.querySelector('#df-8e557b8e-3ced-4f86-9b78-35af12a82297');\n",
              "        const dataTable =\n",
              "          await google.colab.kernel.invokeFunction('convertToInteractive',\n",
              "                                                    [key], {});\n",
              "        if (!dataTable) return;\n",
              "\n",
              "        const docLinkHtml = 'Like what you see? Visit the ' +\n",
              "          '<a target=\"_blank\" href=https://colab.research.google.com/notebooks/data_table.ipynb>data table notebook</a>'\n",
              "          + ' to learn more about interactive tables.';\n",
              "        element.innerHTML = '';\n",
              "        dataTable['output_type'] = 'display_data';\n",
              "        await google.colab.output.renderOutput(dataTable, element);\n",
              "        const docLink = document.createElement('div');\n",
              "        docLink.innerHTML = docLinkHtml;\n",
              "        element.appendChild(docLink);\n",
              "      }\n",
              "    </script>\n",
              "  </div>\n",
              "\n",
              "\n",
              "<div id=\"df-31ab77b7-5049-4e38-90f3-42ef0aa96449\">\n",
              "  <button class=\"colab-df-quickchart\" onclick=\"quickchart('df-31ab77b7-5049-4e38-90f3-42ef0aa96449')\"\n",
              "            title=\"Suggest charts\"\n",
              "            style=\"display:none;\">\n",
              "\n",
              "<svg xmlns=\"http://www.w3.org/2000/svg\" height=\"24px\"viewBox=\"0 0 24 24\"\n",
              "     width=\"24px\">\n",
              "    <g>\n",
              "        <path d=\"M19 3H5c-1.1 0-2 .9-2 2v14c0 1.1.9 2 2 2h14c1.1 0 2-.9 2-2V5c0-1.1-.9-2-2-2zM9 17H7v-7h2v7zm4 0h-2V7h2v10zm4 0h-2v-4h2v4z\"/>\n",
              "    </g>\n",
              "</svg>\n",
              "  </button>\n",
              "\n",
              "<style>\n",
              "  .colab-df-quickchart {\n",
              "      --bg-color: #E8F0FE;\n",
              "      --fill-color: #1967D2;\n",
              "      --hover-bg-color: #E2EBFA;\n",
              "      --hover-fill-color: #174EA6;\n",
              "      --disabled-fill-color: #AAA;\n",
              "      --disabled-bg-color: #DDD;\n",
              "  }\n",
              "\n",
              "  [theme=dark] .colab-df-quickchart {\n",
              "      --bg-color: #3B4455;\n",
              "      --fill-color: #D2E3FC;\n",
              "      --hover-bg-color: #434B5C;\n",
              "      --hover-fill-color: #FFFFFF;\n",
              "      --disabled-bg-color: #3B4455;\n",
              "      --disabled-fill-color: #666;\n",
              "  }\n",
              "\n",
              "  .colab-df-quickchart {\n",
              "    background-color: var(--bg-color);\n",
              "    border: none;\n",
              "    border-radius: 50%;\n",
              "    cursor: pointer;\n",
              "    display: none;\n",
              "    fill: var(--fill-color);\n",
              "    height: 32px;\n",
              "    padding: 0;\n",
              "    width: 32px;\n",
              "  }\n",
              "\n",
              "  .colab-df-quickchart:hover {\n",
              "    background-color: var(--hover-bg-color);\n",
              "    box-shadow: 0 1px 2px rgba(60, 64, 67, 0.3), 0 1px 3px 1px rgba(60, 64, 67, 0.15);\n",
              "    fill: var(--button-hover-fill-color);\n",
              "  }\n",
              "\n",
              "  .colab-df-quickchart-complete:disabled,\n",
              "  .colab-df-quickchart-complete:disabled:hover {\n",
              "    background-color: var(--disabled-bg-color);\n",
              "    fill: var(--disabled-fill-color);\n",
              "    box-shadow: none;\n",
              "  }\n",
              "\n",
              "  .colab-df-spinner {\n",
              "    border: 2px solid var(--fill-color);\n",
              "    border-color: transparent;\n",
              "    border-bottom-color: var(--fill-color);\n",
              "    animation:\n",
              "      spin 1s steps(1) infinite;\n",
              "  }\n",
              "\n",
              "  @keyframes spin {\n",
              "    0% {\n",
              "      border-color: transparent;\n",
              "      border-bottom-color: var(--fill-color);\n",
              "      border-left-color: var(--fill-color);\n",
              "    }\n",
              "    20% {\n",
              "      border-color: transparent;\n",
              "      border-left-color: var(--fill-color);\n",
              "      border-top-color: var(--fill-color);\n",
              "    }\n",
              "    30% {\n",
              "      border-color: transparent;\n",
              "      border-left-color: var(--fill-color);\n",
              "      border-top-color: var(--fill-color);\n",
              "      border-right-color: var(--fill-color);\n",
              "    }\n",
              "    40% {\n",
              "      border-color: transparent;\n",
              "      border-right-color: var(--fill-color);\n",
              "      border-top-color: var(--fill-color);\n",
              "    }\n",
              "    60% {\n",
              "      border-color: transparent;\n",
              "      border-right-color: var(--fill-color);\n",
              "    }\n",
              "    80% {\n",
              "      border-color: transparent;\n",
              "      border-right-color: var(--fill-color);\n",
              "      border-bottom-color: var(--fill-color);\n",
              "    }\n",
              "    90% {\n",
              "      border-color: transparent;\n",
              "      border-bottom-color: var(--fill-color);\n",
              "    }\n",
              "  }\n",
              "</style>\n",
              "\n",
              "  <script>\n",
              "    async function quickchart(key) {\n",
              "      const quickchartButtonEl =\n",
              "        document.querySelector('#' + key + ' button');\n",
              "      quickchartButtonEl.disabled = true;  // To prevent multiple clicks.\n",
              "      quickchartButtonEl.classList.add('colab-df-spinner');\n",
              "      try {\n",
              "        const charts = await google.colab.kernel.invokeFunction(\n",
              "            'suggestCharts', [key], {});\n",
              "      } catch (error) {\n",
              "        console.error('Error during call to suggestCharts:', error);\n",
              "      }\n",
              "      quickchartButtonEl.classList.remove('colab-df-spinner');\n",
              "      quickchartButtonEl.classList.add('colab-df-quickchart-complete');\n",
              "    }\n",
              "    (() => {\n",
              "      let quickchartButtonEl =\n",
              "        document.querySelector('#df-31ab77b7-5049-4e38-90f3-42ef0aa96449 button');\n",
              "      quickchartButtonEl.style.display =\n",
              "        google.colab.kernel.accessAllowed ? 'block' : 'none';\n",
              "    })();\n",
              "  </script>\n",
              "</div>\n",
              "\n",
              "  <div id=\"id_2ecf79e6-5d57-4303-8900-e1e5ea8835f3\">\n",
              "    <style>\n",
              "      .colab-df-generate {\n",
              "        background-color: #E8F0FE;\n",
              "        border: none;\n",
              "        border-radius: 50%;\n",
              "        cursor: pointer;\n",
              "        display: none;\n",
              "        fill: #1967D2;\n",
              "        height: 32px;\n",
              "        padding: 0 0 0 0;\n",
              "        width: 32px;\n",
              "      }\n",
              "\n",
              "      .colab-df-generate:hover {\n",
              "        background-color: #E2EBFA;\n",
              "        box-shadow: 0px 1px 2px rgba(60, 64, 67, 0.3), 0px 1px 3px 1px rgba(60, 64, 67, 0.15);\n",
              "        fill: #174EA6;\n",
              "      }\n",
              "\n",
              "      [theme=dark] .colab-df-generate {\n",
              "        background-color: #3B4455;\n",
              "        fill: #D2E3FC;\n",
              "      }\n",
              "\n",
              "      [theme=dark] .colab-df-generate:hover {\n",
              "        background-color: #434B5C;\n",
              "        box-shadow: 0px 1px 3px 1px rgba(0, 0, 0, 0.15);\n",
              "        filter: drop-shadow(0px 1px 2px rgba(0, 0, 0, 0.3));\n",
              "        fill: #FFFFFF;\n",
              "      }\n",
              "    </style>\n",
              "    <button class=\"colab-df-generate\" onclick=\"generateWithVariable('df')\"\n",
              "            title=\"Generate code using this dataframe.\"\n",
              "            style=\"display:none;\">\n",
              "\n",
              "  <svg xmlns=\"http://www.w3.org/2000/svg\" height=\"24px\"viewBox=\"0 0 24 24\"\n",
              "       width=\"24px\">\n",
              "    <path d=\"M7,19H8.4L18.45,9,17,7.55,7,17.6ZM5,21V16.75L18.45,3.32a2,2,0,0,1,2.83,0l1.4,1.43a1.91,1.91,0,0,1,.58,1.4,1.91,1.91,0,0,1-.58,1.4L9.25,21ZM18.45,9,17,7.55Zm-12,3A5.31,5.31,0,0,0,4.9,8.1,5.31,5.31,0,0,0,1,6.5,5.31,5.31,0,0,0,4.9,4.9,5.31,5.31,0,0,0,6.5,1,5.31,5.31,0,0,0,8.1,4.9,5.31,5.31,0,0,0,12,6.5,5.46,5.46,0,0,0,6.5,12Z\"/>\n",
              "  </svg>\n",
              "    </button>\n",
              "    <script>\n",
              "      (() => {\n",
              "      const buttonEl =\n",
              "        document.querySelector('#id_2ecf79e6-5d57-4303-8900-e1e5ea8835f3 button.colab-df-generate');\n",
              "      buttonEl.style.display =\n",
              "        google.colab.kernel.accessAllowed ? 'block' : 'none';\n",
              "\n",
              "      buttonEl.onclick = () => {\n",
              "        google.colab.notebook.generateWithVariable('df');\n",
              "      }\n",
              "      })();\n",
              "    </script>\n",
              "  </div>\n",
              "\n",
              "    </div>\n",
              "  </div>\n"
            ],
            "application/vnd.google.colaboratory.intrinsic+json": {
              "type": "dataframe",
              "variable_name": "df"
            }
          },
          "metadata": {},
          "execution_count": 5
        }
      ],
      "source": [
        "df"
      ]
    },
    {
      "cell_type": "code",
      "execution_count": 6,
      "metadata": {
        "colab": {
          "base_uri": "https://localhost:8080/"
        },
        "id": "ibOPon55AZGI",
        "outputId": "3a5ab619-b9ff-4f1b-b09a-5342a98bcd68"
      },
      "outputs": [
        {
          "output_type": "stream",
          "name": "stdout",
          "text": [
            "Data(x=[13752, 767], edge_index=[2, 491722], y=[13752])\n",
            "\n",
            "Dataset classes = 10\n",
            "Labels in [0, 9]\n",
            "data.y = tensor([4, 4, 8,  ..., 8, 4, 0])\n",
            "\n",
            "Number of Nodes = 13752\n",
            "Features per Node = 767\n",
            "data.x = tensor([[0.0000, 0.0000, 0.0000,  ..., 0.0000, 0.0000, 0.0000],\n",
            "        [0.0022, 0.0022, 0.0000,  ..., 0.0000, 0.0022, 0.0000],\n",
            "        [0.0000, 0.0000, 0.0000,  ..., 0.0000, 0.0000, 0.0000],\n",
            "        ...,\n",
            "        [0.0025, 0.0000, 0.0000,  ..., 0.0000, 0.0000, 0.0000],\n",
            "        [0.0067, 0.0000, 0.0000,  ..., 0.0000, 0.0000, 0.0000],\n",
            "        [0.0036, 0.0036, 0.0000,  ..., 0.0036, 0.0036, 0.0000]])\n",
            "\n",
            "Number of edges = 491722\n",
            "Features per edge = 0\n",
            "data.edge_index = tensor([[    0,     0,     0,  ..., 13751, 13751, 13751],\n",
            "        [  507,  6551,  8210,  ..., 12751, 13019, 13121]])\n",
            "data.edge_attr = None\n"
          ]
        }
      ],
      "source": [
        "print(data,end=\"\\n\\n\")\n",
        "\n",
        "print(\"Dataset classes = \" + str(dataset.num_classes))\n",
        "print(\"Labels in [\" + str(int(min(data.y))) + \", \" + str(int(max(data.y))) + \"]\")\n",
        "print(\"data.y = \",end=\"\")\n",
        "print(data.y,end=\"\\n\\n\")\n",
        "\n",
        "print(\"Number of Nodes = \" + str(data.num_nodes))\n",
        "print(\"Features per Node = \" + str(dataset.num_node_features))\n",
        "print(\"data.x = \", end=\"\")\n",
        "print(data.x,end=\"\\n\\n\")\n",
        "\n",
        "print(\"Number of edges = \" + str(data.num_edges))\n",
        "print(\"Features per edge = \" + str(dataset.num_edge_features))\n",
        "print(\"data.edge_index = \", end=\"\")\n",
        "print(data.edge_index)\n",
        "print(\"data.edge_attr = \",end=\"\")\n",
        "print(data.edge_attr)"
      ]
    },
    {
      "cell_type": "markdown",
      "metadata": {
        "id": "yickVpQZhPer"
      },
      "source": [
        "Hay 13,752 nodos (productos de computadores) en el grafo y cada nodo tiene 767 características, lo que indica que cada producto tiene un vector de 767 características que puede incluir información como descripción del producto, especificaciones técnicas, precios, reseñas, etc.\n",
        "Hay 491,722 aristas en el grafo, esto quiere decir el número de veces en que fueron comprados dos productos juntos.\n",
        "Cada accesorio de computador está clasificado en una de las 10 clases diferentes.\n",
        "Las etiquetas de los nodos están en el rango de 0 a 9.\n",
        "Cada nodo tiene un vector de características de longitud 767.\n",
        "No hay características asociadas a las aristas."
      ]
    },
    {
      "cell_type": "code",
      "execution_count": 7,
      "metadata": {
        "id": "Ai_guVSDQvS9"
      },
      "outputs": [],
      "source": [
        "\n",
        "# Obtener la lista de nodos del grafo\n",
        "nodos = list(G.nodes())\n",
        "\n",
        "# Definir el tamaño del subconjunto deseado\n",
        "tamaño_subconjunto = 1000  # Por ejemplo, seleccionaremos 1000 nodos aleatoriamente\n",
        "\n",
        "# Seleccionar aleatoriamente el subconjunto de nodos\n",
        "subconjunto_nodos = random.sample(nodos, tamaño_subconjunto)\n",
        "\n",
        "# Crear un nuevo grafo que contenga solo el subconjunto de nodos\n",
        "subgrafo = G.subgraph(subconjunto_nodos)\n",
        "\n",
        "# Ahora puedes realizar tus cálculos en el subgrafo, como calcular métricas de centralidad\n"
      ]
    },
    {
      "cell_type": "markdown",
      "metadata": {
        "id": "qt85PasysW-5"
      },
      "source": [
        "### Atributos topológicos básicos"
      ]
    },
    {
      "cell_type": "markdown",
      "metadata": {
        "id": "b9lzPkBkjNyx"
      },
      "source": [
        " Se toman 13471 productos (representa un 97,9% de los datos) para realizar el primer analisis descriptivo basico de los nodos"
      ]
    },
    {
      "cell_type": "code",
      "execution_count": 8,
      "metadata": {
        "colab": {
          "base_uri": "https://localhost:8080/"
        },
        "id": "Ah2Thzbgscgf",
        "outputId": "68d8a1fe-ea91-4213-e599-0c30d91b7bba"
      },
      "outputs": [
        {
          "output_type": "execute_result",
          "data": {
            "text/plain": [
              "13471"
            ]
          },
          "metadata": {},
          "execution_count": 8
        }
      ],
      "source": [
        "#Numeros de nodos\n",
        "G.number_of_nodes()"
      ]
    },
    {
      "cell_type": "markdown",
      "metadata": {
        "id": "L9H-jG_WjqzR"
      },
      "source": [
        "De esta muestra quedan 245861 relaciones entre los accesorios de computador (representa el 50% de compras de 2 productos al tiempo)"
      ]
    },
    {
      "cell_type": "code",
      "execution_count": 9,
      "metadata": {
        "colab": {
          "base_uri": "https://localhost:8080/"
        },
        "id": "744Z1205siPA",
        "outputId": "2cd0769f-f798-4b9e-d532-23f09810e513"
      },
      "outputs": [
        {
          "output_type": "execute_result",
          "data": {
            "text/plain": [
              "245861"
            ]
          },
          "metadata": {},
          "execution_count": 9
        }
      ],
      "source": [
        "#Número total de aristas:\n",
        "G.number_of_edges()"
      ]
    },
    {
      "cell_type": "markdown",
      "metadata": {
        "id": "ZFBUKvurs14o"
      },
      "source": [
        "En promedio, un nodo está conectado a casi 36 nodos más, esto quiere decir que en promedio los productos de computadores aparecen comprados con otro producto complementario en 36 ocasiones"
      ]
    },
    {
      "cell_type": "code",
      "execution_count": 10,
      "metadata": {
        "colab": {
          "base_uri": "https://localhost:8080/"
        },
        "id": "uDZ3rINJszkP",
        "outputId": "133d5623-7c9e-458e-c403-ad71ba54de1d"
      },
      "outputs": [
        {
          "output_type": "execute_result",
          "data": {
            "text/plain": [
              "36.50226412293074"
            ]
          },
          "metadata": {},
          "execution_count": 10
        }
      ],
      "source": [
        "np.mean([d for _, d in G.degree()])"
      ]
    },
    {
      "cell_type": "markdown",
      "metadata": {
        "id": "X3XSWMVqtQA_"
      },
      "source": [
        "Longitud de ruta más corta para todos los pares de nodos en la red:"
      ]
    },
    {
      "cell_type": "code",
      "execution_count": null,
      "metadata": {
        "id": "P_VSCzM7tCRA"
      },
      "outputs": [],
      "source": [
        "shortest_path_lengths = dict(nx.all_pairs_shortest_path_length(G))"
      ]
    },
    {
      "cell_type": "markdown",
      "metadata": {
        "id": "WvBBohx8k_eS"
      },
      "source": [
        "Se calcula el camino mas corto del producto cero al producto 13471 en donde se interpreta que para pasar de un producto a otro de forma mas rapida, se necesita en promedio 3 relaciones del producto cero con otros productos para que llegue al producto 13471"
      ]
    },
    {
      "cell_type": "code",
      "execution_count": null,
      "metadata": {
        "id": "3dNIeVaJydt4"
      },
      "outputs": [],
      "source": [
        "#camino más corto al ultimo nodo\n",
        "shortest_path_lengths[0][13471]"
      ]
    },
    {
      "cell_type": "markdown",
      "metadata": {
        "id": "h_bwwm_Il3cs"
      },
      "source": [
        "Se calcula el camino mas corto del producto cero al producto 13471 en donde se interpreta que para pasar de un producto a otro de forma mas rapida, se necesita en promedio 3 relaciones del producto cero con otros productos para que llegue al producto 6736, producto que está en la mitad del grafo"
      ]
    },
    {
      "cell_type": "code",
      "execution_count": null,
      "metadata": {
        "id": "xCCH5_Tsy-GR"
      },
      "outputs": [],
      "source": [
        "#camino más corto al nodo intermedio\n",
        "shortest_path_lengths[0][6736]"
      ]
    },
    {
      "cell_type": "markdown",
      "metadata": {
        "id": "Kh8tGrFAmRSh"
      },
      "source": [
        "Se calcula el camino mas corto del producto cero al producto 13471 en donde se interpreta que para pasar de un producto a otro de forma mas rapida, se necesita en promedio 2 relaciones del producto cero con otros productos para que llegue al producto 3368, producto que se encuentra en el primer cuartil del grafo"
      ]
    },
    {
      "cell_type": "code",
      "execution_count": null,
      "metadata": {
        "id": "lJwTYkILzLDu"
      },
      "outputs": [],
      "source": [
        "#curta parte inicial\n",
        "shortest_path_lengths[0][3368]"
      ]
    },
    {
      "cell_type": "code",
      "execution_count": null,
      "metadata": {
        "id": "-lElt33GzbqP"
      },
      "outputs": [],
      "source": [
        "#curta parte final\n",
        "shortest_path_lengths[0][3368]"
      ]
    },
    {
      "cell_type": "code",
      "execution_count": null,
      "metadata": {
        "id": "4jbV8GV8zmga"
      },
      "outputs": [],
      "source": [
        "#Aleatorio\n",
        "shortest_path_lengths[0][50]"
      ]
    },
    {
      "cell_type": "markdown",
      "metadata": {
        "id": "6j_noVnH_JYr"
      },
      "source": [
        "Computacionalmente es muy dificil calcular el promedio de las distancias más cortas pero de acuerdo con las muestras aleatorias esta esta entre 4 y 5"
      ]
    },
    {
      "cell_type": "code",
      "execution_count": null,
      "metadata": {
        "id": "DCCjaDhaz_tO"
      },
      "outputs": [],
      "source": [
        "#################################### NO EJECUTAR ################ TARDA MUCHO Y SE CONSUME TODA LA RAM\n",
        "#total_distance_sum = 0\n",
        "#pair_count = 0\n",
        "\n",
        "# Itera sobre todos los nodos y utiliza Dijkstra para encontrar las distancias más cortas desde cada nodo\n",
        "#for node in G.nodes():\n",
        "    # Utiliza Dijkstra para encontrar las distancias más cortas desde el nodo actual a todos los demás nodos\n",
        " #   shortest_paths = nx.single_source_dijkstra_path_length(G, node)\n",
        "\n",
        "    # Suma las distancias y cuenta los pares de nodos\n",
        "  #  total_distance_sum += sum(shortest_paths.values())\n",
        "   # pair_count += len(shortest_paths) - 1  # Resta 1 para excluir la distancia al propio nodo\n",
        "\n",
        "# Calcula el promedio de las distancias más cortas\n",
        "#average_shortest_path_length = total_distance_sum / pair_count\n",
        "\n",
        "#print(\"El promedio de las distancias más cortas entre todos los pares de nodos es:\", average_shortest_path_length)"
      ]
    },
    {
      "cell_type": "code",
      "execution_count": null,
      "metadata": {
        "id": "jIBbUOq-03au"
      },
      "outputs": [],
      "source": [
        "\n",
        "\n",
        "\n",
        "#Existen unos nodos que no tinen enlaces con los vecinos por tal motivo primero vamos a calcular\n",
        "#el diametro de cada componente conectada utilizando las distancias más cortas precalculadas\n",
        "\n",
        "def diameter_of_connected_component(G, shortest_path_lengths):\n",
        "\n",
        "    connected_components = list(nx.connected_components(G))\n",
        "\n",
        "    # Inicializar el diámetro\n",
        "    diameter = 0\n",
        "\n",
        "    # Calcular el diámetro de cada componente conectada\n",
        "    for component in connected_components:\n",
        "        # Crear un subgrafo de la componente conectada\n",
        "        subgraph = G.subgraph(component)\n",
        "        # Calcular el diámetro de la componente conectada utilizando las distancias más cortas precalculadas\n",
        "        component_diameter = max(max(shortest_path_lengths[node].values()) for node in component)\n",
        "        diameter = max(diameter, component_diameter)\n",
        "\n",
        "    return diameter\n"
      ]
    },
    {
      "cell_type": "markdown",
      "metadata": {
        "id": "ZqUiJwbUnQeL"
      },
      "source": [
        "El resultado indica que el diámetro del grafo, considerando solo las componentes conectadas, es 10. Esto significa que dentro de la componente conectada más extensa del grafo, la mayor distancia entre cualquier par de nodos es 10 aristas, evidenciando que las maximas relaciones que se pueden dar entre productos es de 10 ocasiones con el objetivo de que se conecte un producto a otro"
      ]
    },
    {
      "cell_type": "code",
      "execution_count": null,
      "metadata": {
        "id": "Q2iDsoJr1ciy"
      },
      "outputs": [],
      "source": [
        "# Calcular las distancias más cortas entre todos los pares de nodos\n",
        "#shortest_path_lengths = dict(nx.all_pairs_shortest_path_length(G))\n",
        "\n",
        "diameter = diameter_of_connected_component(G, shortest_path_lengths)\n",
        "print(\"Diámetro del grafo (ignorando nodos sin conexiones):\", diameter)"
      ]
    },
    {
      "cell_type": "code",
      "execution_count": null,
      "metadata": {
        "id": "ZL7JGFCn2ZN6"
      },
      "outputs": [],
      "source": [
        "\n",
        "path_lengths = np.zeros(diameter + 1, dtype=int)\n",
        "\n",
        "#Extraer la frecuencia de las longitudes de ruta más cortas entre dos nodos\n",
        "for pls in shortest_path_lengths.values():\n",
        "    pl, cnts = np.unique(list(pls.values()), return_counts=True)\n",
        "    path_lengths[pl] += cnts\n",
        "\n",
        "\n",
        "freq_percent = 100 * path_lengths[1:] / path_lengths[1:].sum()\n",
        "\n",
        "\n",
        "fig, ax = plt.subplots(figsize=(15, 8))\n",
        "ax.bar(np.arange(1, diameter + 1), height=freq_percent)\n",
        "ax.set_title(\n",
        "    \"Distribution of shortest path length in G\", fontdict={\"size\": 35}, loc=\"center\"\n",
        ")\n",
        "ax.set_xlabel(\"Shortest Path Length\", fontdict={\"size\": 22})\n",
        "ax.set_ylabel(\"Frequency (%)\", fontdict={\"size\": 22})"
      ]
    },
    {
      "cell_type": "markdown",
      "metadata": {
        "id": "Cvx7irSq2gB-"
      },
      "source": [
        "El gráfico anterior muestra una distribución de la frecuencia de los caminos mas cortos sesgado a la derecha ya que la moda es menor que la mediana (como podemos evidenciar 3 conexiones de productos tiene una mayor frecuencia la cual es la moda y 4 conexiones representan la mediana). Como se puede observar el 43% de los datos se encuentran conectados entre 3 vertices y es poco probable observar nodos conectados por 9 o más vertices (Menos del 0%)."
      ]
    },
    {
      "cell_type": "code",
      "execution_count": null,
      "metadata": {
        "id": "hvqRlo-S2cAm"
      },
      "outputs": [],
      "source": [
        "nx.density(G)"
      ]
    },
    {
      "cell_type": "markdown",
      "metadata": {
        "id": "3zFg8LZXqHN7"
      },
      "source": [
        "En el grado existe aproximadamente el 0.27% de todas las posibles conexiones entre productos. Esto quiere decir que los productos no están altamente interconectados en el grafo por razones como que los clientes no suelen comprar grandes cantidades de productos juntos o que existen diferentes grupos de productos que no tienen muchas conexiones entre sí."
      ]
    },
    {
      "cell_type": "code",
      "execution_count": null,
      "metadata": {
        "id": "GPV3lhDB2qr1"
      },
      "outputs": [],
      "source": [
        "nx.number_connected_components(G)"
      ]
    },
    {
      "cell_type": "markdown",
      "metadata": {
        "id": "Yvdwvwcaq5RF"
      },
      "source": [
        "El grafo se divide en 33 grupos de productos interconectados, pero que no tienen conexiones directas entre ellos.\n",
        "\n",
        "Los productos en Amazon forman diferentes grupos o comunidades que están conectados internamente pero no tienen conexiones directas con otros grupos.\n",
        "\n",
        "Una densidad baja y un número relativamente alto de componentes conectadas sugieren una estructura dispersa con grupos de productos interconectados internamente pero no directamente entre sí."
      ]
    },
    {
      "cell_type": "markdown",
      "metadata": {
        "id": "fHSEHlr12zan"
      },
      "source": [
        "**Grado de Centralidad**\n",
        "\n",
        "Evalua la importancia de los nodos individuales dentro de una red"
      ]
    },
    {
      "cell_type": "code",
      "execution_count": null,
      "metadata": {
        "id": "H_XZc2gN2yYT"
      },
      "outputs": [],
      "source": [
        "degree_centrality = nx.centrality.degree_centrality(G)\n",
        "(sorted(degree_centrality.items(), key=lambda item: item[1], reverse=True))[:5]"
      ]
    },
    {
      "cell_type": "markdown",
      "metadata": {
        "id": "_Uwaz5tmtAwV"
      },
      "source": [
        "El anterior codigo presenta el top 5 de productos que tienen un alto grado de conexiones directas, en donde se observa que el producto 12888 es el que tiene una conexión directa del 22,21% de los otros productos, luego le sigue el producto 8210 y 8140 con un 18% y el ultimo es el producto 1524 con una conexión directa del 11,6% con otros productos"
      ]
    },
    {
      "cell_type": "code",
      "execution_count": null,
      "metadata": {
        "id": "T7B808cN4_Ey"
      },
      "outputs": [],
      "source": [
        "(sorted(G.degree, key=lambda item: item[1], reverse=True))[:5]"
      ]
    },
    {
      "cell_type": "markdown",
      "metadata": {
        "id": "M6SyOF6TuIo8"
      },
      "source": [
        "El producto 12888 ha sido comprado junto con otros productos aproximadamente 2992 veces en el conjunto de datos.\n",
        "\n",
        "El producto 8210 ha sido comprado junto con otros productos aproximadamente 2508 veces en el conjunto de datos.\n",
        "\n",
        "El producto 8140 ha sido comprado junto con otros productos aproximadamente 2495 veces en el conjunto de datos.\n",
        "\n",
        "El producto 4528 ha sido comprado junto con otros productos aproximadamente 1850 veces en el conjunto de datos.\n",
        "\n",
        "El producto 1524 ha sido comprado junto con otros productos aproximadamente 1565 veces en el conjunto de datos."
      ]
    },
    {
      "cell_type": "code",
      "execution_count": null,
      "metadata": {
        "id": "tfjYTVlm5HwA"
      },
      "outputs": [],
      "source": [
        "degree_centrality_values = list(degree_centrality.values())\n",
        "\n",
        "plt.figure(figsize=(15, 8))\n",
        "plt.hist(degree_centrality_values, bins=25, color='red')\n",
        "plt.xticks(ticks=[0, 0.025, 0.05, 0.07])\n",
        "plt.title(\"Degree Centrality Histogram\", fontdict={\"size\": 35}, loc=\"center\")\n",
        "plt.xlabel(\"Degree Centrality\", fontdict={\"size\": 20})\n",
        "plt.ylabel(\"Counts\", fontdict={\"size\": 20})\n",
        "plt.show()"
      ]
    },
    {
      "cell_type": "markdown",
      "metadata": {
        "id": "1f-Et50PutXU"
      },
      "source": [
        "En el gráfico anterior se evidencia que hay pocas conexiones directas para 13 mil productos, mientras que menos de 100 productos tienen una conexión directa del 2,5%"
      ]
    },
    {
      "cell_type": "code",
      "execution_count": null,
      "metadata": {
        "id": "aGvJMy6-Igul"
      },
      "outputs": [],
      "source": [
        "node_size = [v * 1000 for v in degree_centrality.values()]\n",
        "plt.figure(figsize=(15, 8))\n",
        "nx.draw_networkx(G, pos=pos, node_size=node_size, with_labels=False, width=0.15)\n",
        "plt.axis(\"off\")"
      ]
    },
    {
      "cell_type": "markdown",
      "metadata": {
        "id": "jXDBNuSxIr8b"
      },
      "source": [
        "**Centralidad Intermedia**\n",
        "\n",
        "Nos indica como un nodo puede actuar como puente entre otros nodos"
      ]
    },
    {
      "cell_type": "code",
      "execution_count": null,
      "metadata": {
        "id": "qfq6gmXmIyoJ"
      },
      "outputs": [],
      "source": [
        "#Se toma una muestra dada la volumetria la memoria RAM no puede ejecutar este\n",
        "#betweenness_centrality = nx.centrality.betweenness_centrality(G)\n",
        "#(sorted(betweenness_centrality.items(), key=lambda item: item[1], reverse=True))[:5]"
      ]
    },
    {
      "cell_type": "code",
      "execution_count": null,
      "metadata": {
        "id": "7Z0WtbI7hgj1"
      },
      "outputs": [],
      "source": [
        "import random\n",
        "import networkx as nx\n",
        "random.seed(42)\n",
        "tamano_muestreo = 1000\n",
        "# Seleccionamos un subconjunto aleatorio de nodos del grafo\n",
        "nodos_muestreo = random.sample(G.nodes(), tamano_muestreo)\n",
        "\n",
        "# Creamos un subgrafo que contenga solo los nodos seleccionados\n",
        "subgrafo = G.subgraph(nodos_muestreo)\n",
        "\n",
        "# Calculamos la centralidad de intermediación para el subgrafo\n",
        "betweenness_centrality = nx.betweenness_centrality(subgrafo)\n",
        "\n",
        "# Ordenamos y mostramos los resultados\n",
        "sorted_betweenness = sorted(betweenness_centrality.items(), key=lambda item: item[1], reverse=True)\n",
        "print(\"Top 5 nodos por centralidad de intermediación:\")\n",
        "print(sorted_betweenness[:5])\n"
      ]
    },
    {
      "cell_type": "markdown",
      "metadata": {
        "id": "OVjWI8TEv-Zl"
      },
      "source": [
        "El anterior codigo presenta el top 5 de productos con la mas alta tasa de intermediación (productos 8140, 8872, 904, 7797 y 11262)\n",
        "\n",
        "Estos productos sirven como puente para comprar otros productos en conjunto cerca del 34% para el producto 8140 mientras que para los demás se encuentra con una intermediación entre el 3%-4%\n",
        "\n",
        "Las compras que incluyen estos productos tienden a conectar otros productos, lo que sugiere su relevancia en estrategias de recomendación y análisis de patrones de compra."
      ]
    },
    {
      "cell_type": "code",
      "execution_count": null,
      "metadata": {
        "id": "R5TW5RYgI4Zr"
      },
      "outputs": [],
      "source": [
        "plt.figure(figsize=(15, 8))\n",
        "plt.hist(betweenness_centrality.values(), bins=100)\n",
        "plt.xticks(ticks=[0, 0.02, 0.1, 0.2])\n",
        "plt.title(\"Betweenness Centrality Histogram \", fontdict={\"size\": 35}, loc=\"center\")\n",
        "plt.xlabel(\"Betweenness Centrality\", fontdict={\"size\": 20})\n",
        "plt.ylabel(\"Counts\", fontdict={\"size\": 20})"
      ]
    },
    {
      "cell_type": "markdown",
      "metadata": {
        "id": "kA7mv6ZtwpGe"
      },
      "source": [
        "El gráfico anterior concluye que la mayoria de casos no tienen una intermediación y que pocos casos son los que tienen una intermadiación mayor al 1%"
      ]
    },
    {
      "cell_type": "code",
      "execution_count": null,
      "metadata": {
        "id": "uGeSlbLIKZw6"
      },
      "outputs": [],
      "source": [
        "# Normalizamos los tamaños de los nodos para que estén en el rango [0, 1]\n",
        "max_size = max(node_size)\n",
        "min_size = min(node_size)\n",
        "node_size_normalized = [(v - min_size) / (max_size - min_size) for v in node_size]\n",
        "\n",
        "# Escalamos los tamaños de los nodos al rango deseado\n",
        "node_size_scaled = [v * 1200 for v in node_size_normalized]\n"
      ]
    },
    {
      "cell_type": "code",
      "execution_count": null,
      "metadata": {
        "id": "Muptj8WCjpd7"
      },
      "outputs": [],
      "source": [
        "node_size = [v * 1200 for v in betweenness_centrality.values()]\n",
        "\n",
        "# Creamos la visualización del grafo\n",
        "plt.figure(figsize=(15, 8))\n",
        "pos = nx.spring_layout(subgrafo)  # Seleccionamos un layout (distribución) para el grafo\n",
        "nx.draw_networkx(subgrafo, pos=pos, node_size=node_size, with_labels=False, width=0.15)\n",
        "plt.axis(\"off\")\n",
        "plt.show()"
      ]
    },
    {
      "cell_type": "markdown",
      "metadata": {
        "id": "-yOw_KGCKtJR"
      },
      "source": [
        "**Centralidad de cercania**"
      ]
    },
    {
      "cell_type": "markdown",
      "metadata": {
        "id": "J-_FoDEfK4Fu"
      },
      "source": [
        "Nos indica que tan cerca esta un nodo de otros nodos."
      ]
    },
    {
      "cell_type": "code",
      "execution_count": null,
      "metadata": {
        "id": "1y9ifv1xKc-p"
      },
      "outputs": [],
      "source": [
        "### sin RAM para ejecutarlo\n",
        "#Calcular el nodo con mayor cercania\n",
        "#closeness_centrality = nx.centrality.closeness_centrality(G)\n",
        "#(sorted(closeness_centrality.items(), key=lambda item: item[1], reverse=True))[:5]"
      ]
    },
    {
      "cell_type": "code",
      "execution_count": null,
      "metadata": {
        "id": "ixS43umdkL-T"
      },
      "outputs": [],
      "source": [
        "\n",
        "random.seed(42)\n",
        "# Definimos el tamaño del muestreo\n",
        "tamano_muestreo = 1000\n",
        "\n",
        "# Seleccionamos un subconjunto aleatorio de nodos del grafo\n",
        "nodos_muestreo = random.sample(G.nodes(), tamano_muestreo)\n",
        "\n",
        "# Creamos un subgrafo que contenga solo los nodos seleccionados\n",
        "subgrafo = G.subgraph(nodos_muestreo)\n",
        "\n",
        "# Calculamos la centralidad de cercanía para el subgrafo\n",
        "closeness_centrality = nx.closeness_centrality(subgrafo)\n",
        "\n",
        "# Ordenamos y mostramos los resultados de los 5 nodos con mayor cercanía\n",
        "sorted_closeness = sorted(closeness_centrality.items(), key=lambda item: item[1], reverse=True)\n",
        "print(\"Top 5 nodos por centralidad de cercanía:\")\n",
        "print(sorted_closeness[:5])\n"
      ]
    },
    {
      "cell_type": "markdown",
      "metadata": {
        "id": "0v7l5wmpMFe0"
      },
      "source": [
        "Se presenta que los productos 8140, 7939, 11262, 4135 y 3697 se compran mas rapido con otros productos en su respectivo camino mas corto entre un 25% al 19% de rapidez de conexión\n",
        "\n",
        "La distancia entre el nodo 8140 con un nodo aleatorio es de aproximadamente 3"
      ]
    },
    {
      "cell_type": "code",
      "execution_count": null,
      "metadata": {
        "id": "Mnsayok9L-GL"
      },
      "outputs": [],
      "source": [
        "##ajustar\n",
        "1 / closeness_centrality[8140]"
      ]
    },
    {
      "cell_type": "markdown",
      "metadata": {
        "id": "CPbWWayfy7qw"
      },
      "source": [
        "El anterior indicador calcula la distancia mas larga del producto 8140 (el cual es el que tiene mayores conexiones con otros productos) y se observa que la longitud es de 395% para conectarse con el producti mas lejano"
      ]
    },
    {
      "cell_type": "code",
      "execution_count": null,
      "metadata": {
        "id": "TaSNAswQMKDT"
      },
      "outputs": [],
      "source": [
        "plt.figure(figsize=(15, 8))\n",
        "plt.hist(closeness_centrality.values(), bins=60)\n",
        "plt.title(\"Closeness Centrality Histogram \", fontdict={\"size\": 35}, loc=\"center\")\n",
        "plt.xlabel(\"Closeness Centrality\", fontdict={\"size\": 20})\n",
        "plt.ylabel(\"Counts\", fontdict={\"size\": 20})"
      ]
    },
    {
      "cell_type": "markdown",
      "metadata": {
        "id": "_X1LFgDGznnV"
      },
      "source": [
        "El anterior histograma presenta que 300 productos no tienen una centralidad de cercania.\n",
        "Tambien se observa que cerca de 70 productos tienen una crentralidad de cercania entre el 18%-19% (esta es la moda)"
      ]
    },
    {
      "cell_type": "code",
      "execution_count": null,
      "metadata": {
        "id": "a-NsL9OzMPtP"
      },
      "outputs": [],
      "source": [
        "# Calcular las posiciones de los nodos utilizando un layout\n",
        "pos = nx.spring_layout(subgrafo)\n",
        "\n",
        "# Asegurarse de que solo estamos considerando los nodos presentes en el subgrafo\n",
        "node_size = [v * 50 for node, v in closeness_centrality.items() if node in subgrafo.nodes()]\n",
        "\n",
        "plt.figure(figsize=(15, 8))\n",
        "nx.draw_networkx(subgrafo, pos=pos, node_size=node_size, with_labels=False, width=0.15)\n",
        "plt.axis(\"off\")\n",
        "plt.show()"
      ]
    },
    {
      "cell_type": "markdown",
      "metadata": {
        "id": "0UnuUpQVM5P_"
      },
      "source": [
        "**Eigenvector Centrality**\n",
        "Importanacia de los nodos si sus nodos vecinos son importantes de igual forma. Es dicir, un tuit es importante si es referenciado por alguien considerado importante"
      ]
    },
    {
      "cell_type": "code",
      "execution_count": null,
      "metadata": {
        "id": "lw-aSBeyMyb3"
      },
      "outputs": [],
      "source": [
        "### Sin RAM para ejecutar\n",
        "##eigenvector_centrality = nx.centrality.eigenvector_centrality(G)\n",
        "###(sorted(eigenvector_centrality.items(), key=lambda item: item[1], reverse=True))[:5]"
      ]
    },
    {
      "cell_type": "code",
      "execution_count": null,
      "metadata": {
        "id": "ri48GZcvmLih"
      },
      "outputs": [],
      "source": [
        "# Fijamos la semilla para reproducibilidad\n",
        "random.seed(42)\n",
        "\n",
        "\n",
        "# Definimos el tamaño del muestreo\n",
        "tamano_muestreo = 1000\n",
        "\n",
        "# Seleccionamos un subconjunto aleatorio de nodos del grafo\n",
        "nodos_muestreo = random.sample(G.nodes(), tamano_muestreo)\n",
        "\n",
        "# Creamos un subgrafo que contenga solo los nodos seleccionados\n",
        "subgrafo = G.subgraph(nodos_muestreo)\n",
        "\n",
        "# Calculamos la centralidad del vector propio para el subgrafo\n",
        "eigenvector_centrality = nx.eigenvector_centrality(subgrafo)\n",
        "\n",
        "# Ordenamos y mostramos los resultados de los 5 nodos con mayor centralidad del vector propio\n",
        "sorted_eigenvector = sorted(eigenvector_centrality.items(), key=lambda item: item[1], reverse=True)\n",
        "print(\"Top 5 nodos por centralidad del vector propio:\")\n",
        "print(sorted_eigenvector[:5])"
      ]
    },
    {
      "cell_type": "markdown",
      "metadata": {
        "id": "Di4JBBDg0twF"
      },
      "source": [
        "El codigo anterior presenta el top 5 de productos con mayor centralidad del vector propio dando las siguientes conclusiones:\n",
        "\n",
        "El nodo 8140 tiene la mayor centralidad del vector (56%) propio en el grafo. Esto indica que este producto es extremadamente importante en términos de influencia y conexiones en la red de productos de Amazon. Puede ser un producto central que está vinculado a muchos otros productos directamente y a través de sus conexiones.\n",
        "\n",
        "El nodo 4135 tiene una influencia del 25% en la red de productos de computadores de Amazon\n",
        "\n",
        "Los productos 13160, 3067 y 5715 tienen una influencia entre 14%-15% en la red de productos de computadores de Amazon\n",
        "\n",
        "Con esta métrica se identifica productos clave para diseñar estrategias efectivas en términos de recomendaciones, marketing y análisis de patrones de compra.\n"
      ]
    },
    {
      "cell_type": "code",
      "execution_count": null,
      "metadata": {
        "id": "SFp0_DbymeuZ"
      },
      "outputs": [],
      "source": [
        "#Validar como se conectan los nodos de la muestra con el más importante (8140)\n",
        "high_eigenvector_centralities = (sorted(eigenvector_centrality.items(), key=lambda item: item[1], reverse=True))[1:15]\n",
        "high_eigenvector_nodes = [\n",
        "    tuple[0] for tuple in high_eigenvector_centralities]\n",
        "neighbors_1912 = [n for n in G.neighbors(8140)]\n",
        "all(item in neighbors_1912 for item in high_eigenvector_nodes)"
      ]
    },
    {
      "cell_type": "code",
      "execution_count": null,
      "metadata": {
        "id": "VpG-ZOmZmjnZ"
      },
      "outputs": [],
      "source": [
        "plt.figure(figsize=(15, 8))\n",
        "plt.hist(eigenvector_centrality.values(), bins=60)\n",
        "plt.xticks(ticks=[0, 0.01, 0.02])\n",
        "plt.title(\"Eigenvector Centrality Histogram \", fontdict={\"size\": 35}, loc=\"center\")\n",
        "plt.xlabel(\"Eigenvector Centrality\", fontdict={\"size\": 20})\n",
        "plt.ylabel(\"Counts\", fontdict={\"size\": 20})"
      ]
    },
    {
      "cell_type": "markdown",
      "metadata": {
        "id": "D-Xg45MO1tSP"
      },
      "source": [
        "El anterior histograma que está sesgada a la derecha muestra que la mayoria de productos no son productos claves, mientras que menos de 10 productos tienen un peso por encima del 10% de influencia dentro de la red"
      ]
    },
    {
      "cell_type": "code",
      "execution_count": null,
      "metadata": {
        "id": "mfS1fsp7mmzR"
      },
      "outputs": [],
      "source": [
        "pos = nx.spring_layout(subgrafo)\n",
        "\n",
        "# Asegurarse de que solo estamos considerando los nodos presentes en el subgrafo\n",
        "node_size = [eigenvector_centrality.get(node, 0) * 4000 for node in subgrafo.nodes()]\n",
        "\n",
        "plt.figure(figsize=(15, 8))\n",
        "nx.draw_networkx(subgrafo, pos=pos, node_size=node_size, with_labels=False, width=0.15)\n",
        "plt.axis(\"off\")\n",
        "plt.show()"
      ]
    },
    {
      "cell_type": "markdown",
      "metadata": {
        "id": "Ik1OhP-pNfBc"
      },
      "source": [
        "**Coeficiente de Agrupamiento**"
      ]
    },
    {
      "cell_type": "code",
      "execution_count": null,
      "metadata": {
        "id": "NHot3ZCSNCMn"
      },
      "outputs": [],
      "source": [
        "nx.average_clustering(G)"
      ]
    },
    {
      "cell_type": "markdown",
      "metadata": {
        "id": "npMG1ths2k3X"
      },
      "source": [
        "En promedio Un 35,1% de los produtos están relativamente bien conectados con sus vecinos. Significa que existe una tendencia a que los productos se agrupen o formen comunidades dentro de la red de compras."
      ]
    },
    {
      "cell_type": "code",
      "execution_count": null,
      "metadata": {
        "id": "v8im5ifTNm5y"
      },
      "outputs": [],
      "source": [
        "plt.figure(figsize=(15, 8))\n",
        "plt.hist(nx.clustering(G).values(), bins=50)\n",
        "plt.title(\"Clustering Coefficient Histogram \", fontdict={\"size\": 35}, loc=\"center\")\n",
        "plt.xlabel(\"Clustering Coefficient\", fontdict={\"size\": 20})\n",
        "plt.ylabel(\"Counts\", fontdict={\"size\": 20})"
      ]
    },
    {
      "cell_type": "markdown",
      "metadata": {
        "id": "vsYdK2nf3DA4"
      },
      "source": [
        "Mas de 700 casos tienen una probabilidad de agruparse cerca de un 38%"
      ]
    },
    {
      "cell_type": "code",
      "execution_count": null,
      "metadata": {
        "id": "zbLnw3UyNqxk"
      },
      "outputs": [],
      "source": [
        "triangles_per_node = list(nx.triangles(G).values())\n",
        "sum(\n",
        "    triangles_per_node\n",
        ") / 3"
      ]
    },
    {
      "cell_type": "markdown",
      "metadata": {
        "id": "WaiO8jrt33lW"
      },
      "source": [
        "Se presenta 4582407 combinaciones de 3 productos que se compran al mismo tiempo"
      ]
    },
    {
      "cell_type": "code",
      "execution_count": null,
      "metadata": {
        "id": "LldSOclQNunH"
      },
      "outputs": [],
      "source": [
        "#Número promedio de triángulos de los que forma parte un nodo\n",
        "np.mean(triangles_per_node)"
      ]
    },
    {
      "cell_type": "markdown",
      "metadata": {
        "id": "prLqutjN4DuP"
      },
      "source": [
        "En promedio hay 340 canastas de compras donde se compran los mismos 3 productos a la vez, indicando que los clientes tienden a comprar conjuntos de tres productos juntos o que hay productos que se compran en conjunto frecuentemente."
      ]
    },
    {
      "cell_type": "code",
      "execution_count": null,
      "metadata": {
        "id": "jv9FkmJMN2_c"
      },
      "outputs": [],
      "source": [
        "#Calculo de la mediana\n",
        "np.median(triangles_per_node)"
      ]
    },
    {
      "cell_type": "markdown",
      "metadata": {
        "id": "2toxrm8f4tjG"
      },
      "source": [
        "El producto que se encuentra en la mitad de la distribución del nodo tiene 72 casos en donde se compran 3 productos al mismo tiempo"
      ]
    },
    {
      "cell_type": "code",
      "execution_count": null,
      "metadata": {
        "id": "PKNAChtxN5Ms"
      },
      "outputs": [],
      "source": [
        "#Cantidad de aristas puentes\n",
        "bridges = list(nx.bridges(G))\n",
        "len(bridges)"
      ]
    },
    {
      "cell_type": "markdown",
      "metadata": {
        "id": "l-Lmhl6E5Naw"
      },
      "source": [
        "Hay 342 puentes en el grafo de compra de amazon, lo que quiere decir que hay muchas conexiones críticas en el grafo de productos de Amazon"
      ]
    },
    {
      "cell_type": "code",
      "execution_count": null,
      "metadata": {
        "id": "uAuJpyUtN7Gc"
      },
      "outputs": [],
      "source": [
        "#Calculo de arista que si se eliminan desconectaría el grafo localmente, es decir,\n",
        "# separaría una comunidad de nodos del resto del grafo.\n",
        "local_bridges = list(nx.local_bridges(G, with_span=False))\n",
        "len(local_bridges)"
      ]
    },
    {
      "cell_type": "markdown",
      "metadata": {
        "id": "LC08ETpR5tKm"
      },
      "source": [
        "Existen 6406 puentes locales en el grafo de productos de Amazon indicando la presencia de muchas conexiones críticas para la conectividad de nodos vecinos. Estas conexiones son importantes para mantener la accesibilidad entre grupos de productos o entre clientes con preferencias similares de compra."
      ]
    },
    {
      "cell_type": "code",
      "execution_count": null,
      "metadata": {
        "id": "ELZNHQNbN9JD"
      },
      "outputs": [],
      "source": [
        "pos = nx.spring_layout(G, iterations=15, seed=1721)\n",
        "\n",
        "plt.figure(figsize=(15, 8))\n",
        "nx.draw_networkx(G, pos=pos, node_size=10, with_labels=False, width=0.15)\n",
        "nx.draw_networkx_edges(\n",
        "    G, pos, edgelist=local_bridges, width=0.5, edge_color=\"lawngreen\"\n",
        ")\n",
        "nx.draw_networkx_edges(\n",
        "    G, pos, edgelist=bridges, width=0.5, edge_color=\"r\"\n",
        ")\n",
        "plt.axis(\"off\")\n",
        "\n"
      ]
    },
    {
      "cell_type": "markdown",
      "metadata": {
        "id": "Dd8o7KoT5wme"
      },
      "source": [
        "En el grafo anterior se presentan todos los puentes que conectan las compras de varios productos en Amazon"
      ]
    },
    {
      "cell_type": "markdown",
      "metadata": {
        "id": "7rQQTB2bOEaO"
      },
      "source": [
        "**Asortatividad**"
      ]
    },
    {
      "cell_type": "code",
      "execution_count": null,
      "metadata": {
        "id": "LiFOQF20N_hS"
      },
      "outputs": [],
      "source": [
        "nx.degree_assortativity_coefficient(G)"
      ]
    },
    {
      "cell_type": "markdown",
      "metadata": {
        "id": "b5F5ssZI6Ph_"
      },
      "source": [
        " Se indica una tendencia de disasortativity, lo que significa que los nodos con un grado alto tienden a conectarse con nodos de grado bajo y viceversa. En el contexto de productos de Amazon, esto puede significar que los productos populares (con alto grado) tienden a estar conectados con productos menos populares (con bajo grado), y viceversa."
      ]
    },
    {
      "cell_type": "code",
      "execution_count": null,
      "metadata": {
        "id": "FpPzifPdOKEt"
      },
      "outputs": [],
      "source": [
        "from random import randint\n",
        "\n",
        "colors = [\"\"] * G.number_of_nodes()  # Inicializa la lista de colores con la longitud adecuada\n",
        "node_index_map = {node: i for i, node in enumerate(G.nodes())}  # Mapa de nodos a índices en la lista colors\n",
        "counter = 0\n",
        "for com in nx.community.label_propagation_communities(G):\n",
        "    color = \"#%06X\" % randint(0, 0xFFFFFF)  # Crea un color RGB aleatorio\n",
        "    counter += 1\n",
        "    for node in list(com):\n",
        "        colors[node_index_map[node]] = color\n",
        "counter"
      ]
    },
    {
      "cell_type": "markdown",
      "metadata": {
        "id": "x5j6eBjU6gQ-"
      },
      "source": [
        "Se identificaron 136 comunidades en el grafo"
      ]
    },
    {
      "cell_type": "code",
      "execution_count": null,
      "metadata": {
        "id": "PTD8bBY2OLxQ"
      },
      "outputs": [],
      "source": [
        "# Ajustamos las posiciones con spring_layout y establecemos la semilla para reproducibilidad\n",
        "pos = nx.spring_layout(G, iterations=15, seed=1721)\n",
        "\n",
        "\n",
        "plt.figure(figsize=(15, 9))\n",
        "plt.axis(\"off\")\n",
        "nx.draw_networkx(G, pos=pos, node_size=10, with_labels=False, width=0.15, node_color=colors)\n",
        "plt.show()"
      ]
    },
    {
      "cell_type": "markdown",
      "metadata": {
        "id": "NPDoKHfa7FDH"
      },
      "source": [
        "En el gráfo anterior se presentan las diferentes comunidades identificadas en donde la comunidad coloreada de purpura oscura es la comunidad mas grande en las compras de Amazon"
      ]
    },
    {
      "cell_type": "code",
      "execution_count": null,
      "metadata": {
        "id": "jOmdpOsNr6At"
      },
      "outputs": [],
      "source": [
        "#Eliminar los nodos que no estan alejados\n",
        "import networkx as nx\n",
        "from random import randint\n",
        "\n",
        "\n",
        "# Obtener las componentes conectadas\n",
        "connected_components = list(nx.connected_components(G))\n",
        "\n",
        "# Encontrar el componente más grande\n",
        "largest_component_nodes = max(connected_components, key=len)\n",
        "largest_component = G.subgraph(largest_component_nodes)\n",
        "\n",
        "# Inicializar la lista de colores con la longitud adecuada\n",
        "colors = [\"\"] * largest_component.number_of_nodes()\n",
        "\n",
        "# Ejecutar el algoritmo de detección de comunidades en el componente más grande\n",
        "for com in nx.community.asyn_fluidc(largest_component, 8, seed=0):\n",
        "    color = \"#%06X\" % randint(0, 0xFFFFFF)  # Crear un color RGB aleatorio\n",
        "    for node in list(com):\n",
        "        # Verificar que el nodo está en el subgrafo\n",
        "        if node in largest_component:\n",
        "            # Obtener el índice del nodo en el subgrafo\n",
        "            node_index = list(largest_component.nodes()).index(node)\n",
        "            colors[node_index] = color"
      ]
    },
    {
      "cell_type": "code",
      "execution_count": null,
      "metadata": {
        "id": "0eB8Bf8Jr-at"
      },
      "outputs": [],
      "source": [
        "pos = nx.spring_layout(G, iterations=15, seed=1721)\n",
        "connected_components = list(nx.connected_components(G))\n",
        "\n",
        "# Encontrar el componente más grande\n",
        "largest_component_nodes = max(connected_components, key=len)\n",
        "largest_component = G.subgraph(largest_component_nodes)\n",
        "\n",
        "# Inicializar la lista de colores con la longitud adecuada\n",
        "colors = [\"\"] * largest_component.number_of_nodes()\n",
        "\n",
        "# Ejecutar el algoritmo de detección de comunidades en el componente más grande\n",
        "for com in nx.community.asyn_fluidc(largest_component, 8, seed=0):\n",
        "    color = \"#%06X\" % randint(0, 0xFFFFFF)  # Crear un color RGB aleatorio\n",
        "    for node in list(com):\n",
        "        # Verificar que el nodo está en el subgrafo\n",
        "        if node in largest_component:\n",
        "            # Obtener el índice del nodo en el subgrafo\n",
        "            node_index = list(largest_component.nodes()).index(node)\n",
        "            colors[node_index] = color  # Asignar el color al nodo en el índice correspondiente\n",
        "\n",
        "# Dibujar el grafo con colores asignados a los nodos\n",
        "plt.figure(figsize=(15, 9))\n",
        "plt.axis(\"off\")\n",
        "nx.draw_networkx(\n",
        "    largest_component, pos=pos, node_size=10, with_labels=False, width=0.15, node_color=colors\n",
        ")\n",
        "plt.show()"
      ]
    },
    {
      "cell_type": "markdown",
      "metadata": {
        "id": "j8b1y8uS7U__"
      },
      "source": [
        "Para el grafo anterior se quitó los nodos sin conexiones para ver como se agrupan en comunidades las compras de Amazon y se evidencia que las comunidades mas grandes son la rosada y verde oscuro las que tienen un comportamiento de compras similares"
      ]
    },
    {
      "cell_type": "markdown",
      "metadata": {
        "id": "13gwqvQyRG0A"
      },
      "source": [
        "## 1. Graph Neural Network (GNN)"
      ]
    },
    {
      "cell_type": "markdown",
      "source": [
        "### Sin Early Stop"
      ],
      "metadata": {
        "id": "DHkc8Hk5JeKy"
      }
    },
    {
      "cell_type": "code",
      "execution_count": null,
      "metadata": {
        "id": "LSP1qhUIRG0B"
      },
      "outputs": [],
      "source": [
        "import torch\n",
        "torch.manual_seed(0)\n",
        "from torch.nn import Linear\n",
        "import torch.nn.functional as F\n",
        "\n",
        "from torch_geometric.utils import to_dense_adj\n",
        "from torch_geometric.datasets import Amazon\n",
        "from torch_geometric.utils import train_test_split_edges\n",
        "\n",
        "# Import dataset from PyTorch Geometric\n",
        "dataset = Amazon(root=\".\", name=\"Computers\")\n",
        "\n",
        "# Access the first data instance\n",
        "data = dataset[0]\n",
        "\n",
        "# Define train, validation, and test masks\n",
        "num_nodes = data.num_nodes\n",
        "train_mask = torch.arange(int(num_nodes*0.6))\n",
        "test_mask = torch.arange(int(num_nodes*0.6), int(num_nodes*0.9))\n",
        "val_mask = torch.arange(int(num_nodes*0.9), num_nodes)\n",
        "# Apply the masks to the data\n",
        "data.train_mask = train_mask\n",
        "data.val_mask = val_mask\n",
        "data.test_mask = test_mask\n",
        "\n",
        "adjacency = to_dense_adj(data.edge_index)[0]\n",
        "adjacency += torch.eye(len(adjacency)) # A 2-D tensor with ones on the diagonal and zeros elsewhere\n",
        "adjacency\n",
        "\n",
        "def accuracy(y_pred, y_true):\n",
        "    \"\"\"Calculate accuracy.\"\"\"\n",
        "    return torch.sum(y_pred == y_true) / len(y_true)\n",
        "\n",
        "class SparseLayer(torch.nn.Module):\n",
        "    def __init__(self, dim_in, dim_out):\n",
        "        super().__init__()\n",
        "        self.linear = Linear(dim_in, dim_out, bias=False)\n",
        "\n",
        "    def forward(self, x, adjacency):\n",
        "        x = self.linear(x)\n",
        "        x = torch.sparse.mm(adjacency, x)\n",
        "        return x\n",
        "\n",
        "\n",
        "class GNN(torch.nn.Module):\n",
        "    \"\"\"Vanilla Graph Neural Network\"\"\"\n",
        "    def __init__(self, dim_in, dim_h, dim_out):\n",
        "        super().__init__()\n",
        "        self.gnn1 = SparseLayer(dim_in, dim_h)\n",
        "        self.gnn2 = SparseLayer(dim_h, dim_out)\n",
        "\n",
        "    def forward(self, x, adjacency):\n",
        "        h = self.gnn1(x, adjacency)\n",
        "        h = torch.relu(h)\n",
        "        h = self.gnn2(h, adjacency)\n",
        "        return F.log_softmax(h, dim=1)\n",
        "\n",
        "    def fit(self, data, epochs):\n",
        "        criterion = torch.nn.CrossEntropyLoss()\n",
        "        optimizer = torch.optim.Adam(self.parameters(),\n",
        "                                      lr=0.01,\n",
        "                                      weight_decay=5e-4)\n",
        "\n",
        "        self.train()\n",
        "        for epoch in range(epochs+1):\n",
        "            optimizer.zero_grad()\n",
        "            out = self(data.x, adjacency)\n",
        "            loss = criterion(out[data.train_mask], data.y[data.train_mask])\n",
        "            acc = accuracy(out[data.train_mask].argmax(dim=1),\n",
        "                          data.y[data.train_mask])\n",
        "            loss.backward()\n",
        "            optimizer.step()\n",
        "\n",
        "            if(epoch % 20 == 0):\n",
        "                val_loss = criterion(out[data.val_mask], data.y[data.val_mask])\n",
        "                val_acc = accuracy(out[data.val_mask].argmax(dim=1),\n",
        "                                  data.y[data.val_mask])\n",
        "                print(f'Epoch {epoch:>3} | Train Loss: {loss:.3f} | Train Acc:'\n",
        "                      f' {acc*100:>5.2f}% | Val Loss: {val_loss:.2f} | '\n",
        "                      f'Val Acc: {val_acc*100:.2f}%')\n",
        "\n",
        "    @torch.no_grad()\n",
        "    def test(self, data):\n",
        "        self.eval()\n",
        "        out = self(data.x, adjacency)\n",
        "        acc = accuracy(out.argmax(dim=1)[data.test_mask], data.y[data.test_mask])\n",
        "        return acc\n",
        "\n",
        "\n",
        "# Create the Vanilla GNN model\n",
        "gnn = GNN(dataset.num_features, 16, dataset.num_classes)\n",
        "print(gnn)\n",
        "\n",
        "# Train\n",
        "gnn.fit(data, epochs=100)\n",
        "\n",
        "# Test\n",
        "acc = gnn.test(data)\n",
        "print(f'\\nGNN test accuracy: {acc*100:.2f}%')"
      ]
    },
    {
      "cell_type": "markdown",
      "source": [
        "### Con Early Stop"
      ],
      "metadata": {
        "id": "sxjOXV67Jhqu"
      }
    },
    {
      "cell_type": "code",
      "source": [
        "import torch\n",
        "torch.manual_seed(0)\n",
        "from torch.nn import Linear\n",
        "import torch.nn.functional as F\n",
        "\n",
        "from torch_geometric.utils import to_dense_adj\n",
        "from torch_geometric.datasets import Amazon\n",
        "from torch_geometric.utils import train_test_split_edges\n",
        "\n",
        "# Import dataset from PyTorch Geometric\n",
        "dataset = Amazon(root=\".\", name=\"Computers\")\n",
        "\n",
        "# Access the first data instance\n",
        "data = dataset[0]\n",
        "\n",
        "# Define train, validation, and test masks\n",
        "num_nodes = data.num_nodes\n",
        "train_mask = torch.arange(int(num_nodes*0.6))\n",
        "test_mask = torch.arange(int(num_nodes*0.6), int(num_nodes*0.9))\n",
        "val_mask = torch.arange(int(num_nodes*0.9), num_nodes)\n",
        "# Apply the masks to the data\n",
        "data.train_mask = train_mask\n",
        "data.val_mask = val_mask\n",
        "data.test_mask = test_mask\n",
        "\n",
        "adjacency = to_dense_adj(data.edge_index)[0]\n",
        "adjacency += torch.eye(len(adjacency)) # A 2-D tensor with ones on the diagonal and zeros elsewhere\n",
        "adjacency\n",
        "\n",
        "def accuracy(y_pred, y_true):\n",
        "    \"\"\"Calculate accuracy.\"\"\"\n",
        "    return torch.sum(y_pred == y_true) / len(y_true)\n",
        "\n",
        "class SparseLayer(torch.nn.Module):\n",
        "    def __init__(self, dim_in, dim_out):\n",
        "        super().__init__()\n",
        "        self.linear = Linear(dim_in, dim_out, bias=False)\n",
        "\n",
        "    def forward(self, x, adjacency):\n",
        "        x = self.linear(x)\n",
        "        x = torch.sparse.mm(adjacency, x)\n",
        "        return x\n",
        "\n",
        "\n",
        "class GNN(torch.nn.Module):\n",
        "    \"\"\"Vanilla Graph Neural Network\"\"\"\n",
        "    def __init__(self, dim_in, dim_h, dim_out):\n",
        "        super().__init__()\n",
        "        self.gnn1 = SparseLayer(dim_in, dim_h)\n",
        "        self.gnn2 = SparseLayer(dim_h, dim_out)\n",
        "\n",
        "    def forward(self, x, adjacency):\n",
        "        h = self.gnn1(x, adjacency)\n",
        "        h = torch.relu(h)\n",
        "        h = self.gnn2(h, adjacency)\n",
        "        return F.log_softmax(h, dim=1)\n",
        "\n",
        "    def fit(self, data, epochs):\n",
        "\n",
        "        criterion = torch.nn.CrossEntropyLoss()\n",
        "        optimizer = torch.optim.Adam(self.parameters(),\n",
        "                                      lr=0.01,\n",
        "                                      weight_decay=5e-4)\n",
        "\n",
        "        self.train()\n",
        "        best_val_acc = 0\n",
        "        epochs_no_improve = 0\n",
        "        for epoch in range(epochs+1):\n",
        "            optimizer.zero_grad()\n",
        "            out = self(data.x, adjacency)\n",
        "            loss = criterion(out[data.train_mask], data.y[data.train_mask])\n",
        "            acc = accuracy(out[data.train_mask].argmax(dim=1),\n",
        "                          data.y[data.train_mask])\n",
        "            loss.backward()\n",
        "            optimizer.step()\n",
        "\n",
        "\n",
        "            val_loss = criterion(out[data.val_mask], data.y[data.val_mask])\n",
        "            val_acc = accuracy(out[data.val_mask].argmax(dim=1),\n",
        "                                  data.y[data.val_mask])\n",
        "            if(epoch % 20 == 0):\n",
        "                print(f'Epoch {epoch:>3} | Train Loss: {loss:.3f} | Train Acc:'\n",
        "                      f' {acc*100:>5.2f}% | Val Loss: {val_loss:.2f} | '\n",
        "                      f'Val Acc: {val_acc*100:.2f}%')\n",
        "\n",
        "            #print(f\"actual acc: {float(val_acc):.2f}, best acc:{float(best_val_acc):.2f}, epoc no impro:{float(epochs_no_improve):.2f}\")\n",
        "            if val_acc >= float(best_val_acc):\n",
        "                best_val_acc = val_acc\n",
        "                epochs_no_improve = 0\n",
        "            else:\n",
        "                epochs_no_improve += 1\n",
        "            if epochs_no_improve == 5:\n",
        "                print(f'Epoch {epoch:>3} | Train Loss: {loss:.3f} | Train Acc:'\n",
        "                      f' {acc*100:>5.2f}% | Val Loss: {val_loss:.2f} | '\n",
        "                      f'Val Acc: {val_acc*100:.2f}%')\n",
        "                print(\"Early stopping due to no improvement in validation accuracy.\")\n",
        "                break\n",
        "\n",
        "    @torch.no_grad()\n",
        "    def test(self, data):\n",
        "        self.eval()\n",
        "        out = self(data.x, adjacency)\n",
        "        acc = accuracy(out.argmax(dim=1)[data.test_mask], data.y[data.test_mask])\n",
        "        return acc\n",
        "\n",
        "\n",
        "# Create the Vanilla GNN model\n",
        "gnn = GNN(dataset.num_features, 16, dataset.num_classes)\n",
        "print(gnn)\n",
        "\n",
        "# Train\n",
        "gnn.fit(data, epochs=100)\n",
        "\n",
        "# Test\n",
        "acc = gnn.test(data)\n",
        "print(f'\\nGNN test accuracy: {acc*100:.2f}%')"
      ],
      "metadata": {
        "id": "epjT9QtBJj5f"
      },
      "execution_count": null,
      "outputs": []
    },
    {
      "cell_type": "markdown",
      "metadata": {
        "id": "23GsYC48RG0B"
      },
      "source": [
        "## 2. Graph Convolutional Network (GCN)"
      ]
    },
    {
      "cell_type": "markdown",
      "metadata": {
        "id": "9dL4ZSQqRG0B"
      },
      "source": [
        "### Red1\n",
        "- 1 Capa intermedia\n",
        "- Función activación ReLu"
      ]
    },
    {
      "cell_type": "code",
      "execution_count": null,
      "metadata": {
        "id": "z3olZPGdRG0B"
      },
      "outputs": [],
      "source": [
        "import torch\n",
        "from torch.nn import Linear, Dropout\n",
        "import torch.nn.functional as F\n",
        "from torch_geometric.datasets import Amazon\n",
        "from torch_geometric.utils import to_dense_adj\n",
        "from torch_geometric.utils import degree\n",
        "from torch_geometric.nn import GCNConv\n",
        "from collections import Counter\n",
        "import numpy as np\n",
        "import random\n",
        "\n",
        "# Fijar semillas para reproducibilidad\n",
        "torch.manual_seed(0)\n",
        "np.random.seed(0)\n",
        "random.seed(0)\n",
        "\n",
        "def accuracy(y_pred, y_true):\n",
        "    \"\"\"Calculate accuracy.\"\"\"\n",
        "    return torch.sum(y_pred == y_true) / len(y_true)\n",
        "\n",
        "# Import dataset from PyTorch Geometric\n",
        "dataset = Amazon(root=\".\", name=\"Computers\")\n",
        "data = dataset[0]\n",
        "\n",
        "# Se crean particiones en entrenamiento con los primeros 18 mil datos, de validación desde el 180001 al dato 20 mil y los datos restantes para la prueba\n",
        "data.train_mask = range(11000)\n",
        "data.val_mask = range(11001, 12000)\n",
        "data.test_mask = range(12001, 13752)\n",
        "\n",
        "# Get list of degrees for each node\n",
        "degrees = degree(data.edge_index[0]).numpy()\n",
        "\n",
        "# Count the number of nodes for each degree\n",
        "numbers = Counter(degrees)\n",
        "\n",
        "# Se construye una red neuronal convolucional para grafos (GCN)\n",
        "class GCN1(torch.nn.Module):\n",
        "    \"\"\"Graph Convolutional Network\"\"\"\n",
        "    def __init__(self, dim_in, dim_h, dim_out):\n",
        "        super().__init__()\n",
        "        self.gcn1 = GCNConv(dim_in, dim_h)\n",
        "        self.gcn2 = GCNConv(dim_h, dim_out)\n",
        "\n",
        "# Se realiza el proceso de propagación hacia adelante (forward propagation) en una Red Convolutiva de Grafos\n",
        "def forward(self, x, edge_index):\n",
        "    h = self.gcn1(x, edge_index) # Primera capa\n",
        "    h = torch.relu(h) #  Aplica la función de activación ReLU\n",
        "    h = self.gcn2(h, edge_index) # Segunda capa\n",
        "    return F.log_softmax(h, dim=1) # Calcula el logaritmo de la función softmax para representar las probabilidades de pertenecer a cada clase para cada nodo del grafo\n",
        "GCN1.forward = forward\n",
        "\n",
        "# Funcion fit\n",
        "def fit(self, data, epochs):\n",
        "    criterion = torch.nn.CrossEntropyLoss()\n",
        "    optimizer = torch.optim.Adam(self.parameters(),\n",
        "                                  lr=0.01,\n",
        "                                  weight_decay=5e-4)\n",
        "    self.train()\n",
        "    for epoch in range(epochs+1):\n",
        "        optimizer.zero_grad()\n",
        "        out = self(data.x, data.edge_index)\n",
        "        loss = criterion(out[data.train_mask], data.y[data.train_mask])\n",
        "        acc = accuracy(out[data.train_mask].argmax(dim=1),\n",
        "                      data.y[data.train_mask])\n",
        "        loss.backward()\n",
        "        optimizer.step()\n",
        "        if(epoch % 20 == 0):\n",
        "            val_loss = criterion(out[data.val_mask], data.y[data.val_mask])\n",
        "            val_acc = accuracy(out[data.val_mask].argmax(dim=1),\n",
        "                              data.y[data.val_mask])\n",
        "            print(f'Epoch {epoch:>3} | Train Loss: {loss:.3f} | Train Acc:'\n",
        "                  f' {acc*100:>5.2f}% | Val Loss: {val_loss:.2f} | '\n",
        "                  f'Val Acc: {val_acc*100:.2f}%')\n",
        "GCN1.fit = fit\n",
        "\n",
        "@torch.no_grad()\n",
        "def test(self, data):\n",
        "    self.eval()\n",
        "    out = self(data.x, data.edge_index)\n",
        "    acc = accuracy(out.argmax(dim=1)[data.test_mask], data.y[data.test_mask])\n",
        "    return acc\n",
        "GCN1.test = test\n",
        "\n",
        "# Fijar semillas para reproducibilidad\n",
        "torch.manual_seed(19)\n",
        "np.random.seed(19)\n",
        "random.seed(19)\n",
        "if torch.cuda.is_available():\n",
        "    torch.cuda.manual_seed_all(19)\n",
        "\n",
        "# Train GCN\n",
        "gcn1 = GCN1(dataset.num_features, 16, dataset.num_classes)\n",
        "print(gcn1)\n",
        "gcn1.fit(data, epochs=100)\n",
        "accuracyGCN1 = gcn1.test(data)\n",
        "# aplicando redes neuronales convolucionales se idententifica una mejoria en el accuracy con respecto al resultado en el GNN que del 85.38%\n",
        "print(f'\\nGCN test accuracy: {accuracyGCN1*100:.2f}%\\n')"
      ]
    },
    {
      "cell_type": "markdown",
      "metadata": {
        "id": "3RxE-zwORG0B"
      },
      "source": [
        "### Red 2\n",
        "- Dos capas ocultas\n",
        "- Leaky Relu\n",
        "- Early Stop 10 epocas"
      ]
    },
    {
      "cell_type": "code",
      "execution_count": null,
      "metadata": {
        "id": "WJlp9pieRG0B"
      },
      "outputs": [],
      "source": [
        "class GCN2(torch.nn.Module):\n",
        "    \"\"\"Graph Convolutional Network\"\"\"\n",
        "    def __init__(self, dim_in, dim_h, dim_out):\n",
        "        super().__init__()\n",
        "        self.gcn1 = GCNConv(dim_in, dim_h)\n",
        "        self.gcn2 = GCNConv(dim_h, dim_h)  # Segunda capa oculta\n",
        "        self.gcn3 = GCNConv(dim_h, dim_out)  # Salida\n",
        "\n",
        "    def forward(self, x, edge_index):\n",
        "        x = self.gcn1(x, edge_index)\n",
        "        x = F.leaky_relu(x, negative_slope=0.01)\n",
        "        x = self.gcn2(x, edge_index)\n",
        "        x = F.leaky_relu(x, negative_slope=0.01)\n",
        "        x = self.gcn3(x, edge_index)\n",
        "        return F.log_softmax(x, dim=1)\n",
        "\n",
        "    def fit(self, data, epochs, patience=10):\n",
        "        criterion = torch.nn.CrossEntropyLoss()\n",
        "        optimizer = torch.optim.Adam(self.parameters(), lr=0.01, weight_decay=5e-4)\n",
        "        best_val_loss = float('inf')\n",
        "        patience_counter = 0\n",
        "        best_model_state = None  # Para guardar el estado del modelo\n",
        "\n",
        "        for epoch in range(epochs):\n",
        "            self.train()\n",
        "            optimizer.zero_grad()\n",
        "            out = self(data.x, data.edge_index)\n",
        "            loss = criterion(out[data.train_mask], data.y[data.train_mask])\n",
        "            loss.backward()\n",
        "            optimizer.step()\n",
        "\n",
        "            self.eval()\n",
        "            with torch.no_grad():\n",
        "                val_out = self(data.x, data.edge_index)\n",
        "                val_loss = criterion(val_out[data.val_mask], data.y[data.val_mask])\n",
        "                val_acc = accuracy(val_out[data.val_mask].argmax(dim=1), data.y[data.val_mask])\n",
        "\n",
        "            if epoch % 20 == 0:\n",
        "                print(f'Epoch {epoch:>3} | Train Loss: {loss:.3f} | Val Loss: {val_loss:.2f} | Val Acc: {val_acc*100:.2f}%')\n",
        "\n",
        "            if val_loss < best_val_loss:\n",
        "               best_val_loss = val_loss\n",
        "               patience_counter = 0\n",
        "               best_model_state = self.state_dict()  # Guarda el estado actual del modelo como el mejor\n",
        "            else:\n",
        "                patience_counter += 1\n",
        "                if patience_counter >= patience:\n",
        "                  print(\"Stopping early due to no improvement in validation loss.\")\n",
        "                  self.load_state_dict(best_model_state)  # Restaura el mejor estado antes de parar\n",
        "                  break\n",
        "\n",
        "    def test(self, data):\n",
        "      self.eval()\n",
        "      out = self(data.x, data.edge_index)\n",
        "      acc = accuracy(out.argmax(dim=1)[data.test_mask], data.y[data.test_mask])\n",
        "      return acc\n",
        "\n",
        "# Train GCN\n",
        "# Inicializar el modelo\n",
        "gcn2 = GCN2(dataset.num_features, 16, dataset.num_classes)\n",
        "\n",
        "# Entrenar el modelo\n",
        "gcn2.fit(data, epochs=100)\n",
        "# Evaluar el modelo\n",
        "accuracyGCN2 = gcn2.test(data)\n",
        "print(f'\\nGCN test accuracy: {accuracyGCN2 * 100:.2f}%\\n')"
      ]
    },
    {
      "cell_type": "markdown",
      "metadata": {
        "id": "_II4GZHiRG0C"
      },
      "source": [
        "### Red 3\n",
        "- 5 capas ocultas\n",
        "- Se agrego una capa oculta adicional para mejorar el modelo\n",
        "- Se cambio la función de activación ReLU por LeakyReLU para ambas capas ocultas\n",
        "- Se implemento un early stop para detener el modelo si no mejora despues de 20 epocas\n"
      ]
    },
    {
      "cell_type": "code",
      "execution_count": null,
      "metadata": {
        "id": "5z47loChRG0C"
      },
      "outputs": [],
      "source": [
        "class GCN3(torch.nn.Module):\n",
        "    \"\"\"Graph Convolutional Network\"\"\"\n",
        "    def __init__(self, dim_in, dim_h, dim_out):\n",
        "        super().__init__()\n",
        "        self.gcn1 = GCNConv(dim_in, dim_h)\n",
        "        self.gcn2 = GCNConv(dim_h, dim_h)  # Segunda capa oculta\n",
        "        self.gcn3 = GCNConv(dim_h, dim_h)  # Tercer capa oculta\n",
        "        self.gcn4 = GCNConv(dim_h, dim_h)  # Cuarta capa oculta\n",
        "        self.gcn5 = GCNConv(dim_h, dim_out)  # Salida\n",
        "\n",
        "    def forward(self, x, edge_index):\n",
        "        x = self.gcn1(x, edge_index)\n",
        "        x = torch.tanh(x)\n",
        "        x = self.gcn2(x, edge_index)\n",
        "        x = torch.tanh(x)\n",
        "        x = self.gcn3(x, edge_index)\n",
        "        x = torch.tanh(x)\n",
        "        x = self.gcn4(x, edge_index)\n",
        "        x = torch.tanh(x)\n",
        "        x = self.gcn5(x, edge_index)\n",
        "        return F.log_softmax(x, dim=1)\n",
        "\n",
        "    def fit(self, data, epochs, patience=20):\n",
        "        criterion = torch.nn.CrossEntropyLoss()\n",
        "        optimizer = torch.optim.Adam(self.parameters(), lr=0.01, weight_decay=5e-4)\n",
        "        best_val_loss = float('inf')\n",
        "        patience_counter = 0\n",
        "        best_model_state = None  # Para guardar el estado del modelo\n",
        "\n",
        "        for epoch in range(epochs):\n",
        "            self.train()\n",
        "            optimizer.zero_grad()\n",
        "            out = self(data.x, data.edge_index)\n",
        "            loss = criterion(out[data.train_mask], data.y[data.train_mask])\n",
        "            loss.backward()\n",
        "            optimizer.step()\n",
        "\n",
        "            self.eval()\n",
        "            with torch.no_grad():\n",
        "                val_out = self(data.x, data.edge_index)\n",
        "                val_loss = criterion(val_out[data.val_mask], data.y[data.val_mask])\n",
        "                val_acc = accuracy(val_out[data.val_mask].argmax(dim=1), data.y[data.val_mask])\n",
        "\n",
        "            if epoch % 20 == 0:\n",
        "                print(f'Epoch {epoch:>3} | Train Loss: {loss:.3f} | Val Loss: {val_loss:.2f} | Val Acc: {val_acc*100:.2f}%')\n",
        "\n",
        "            if val_loss < best_val_loss:\n",
        "               best_val_loss = val_loss\n",
        "               patience_counter = 0\n",
        "               best_model_state = self.state_dict()  # Guarda el estado actual del modelo como el mejor\n",
        "            else:\n",
        "                patience_counter += 1\n",
        "                if patience_counter >= patience:\n",
        "                  print(\"Stopping early due to no improvement in validation loss.\")\n",
        "                  self.load_state_dict(best_model_state)  # Restaura el mejor estado antes de parar\n",
        "                  break\n",
        "\n",
        "    def test(self, data):\n",
        "      self.eval()\n",
        "      out = self(data.x, data.edge_index)\n",
        "      acc = accuracy(out.argmax(dim=1)[data.test_mask], data.y[data.test_mask])\n",
        "      return acc\n",
        "\n",
        "# Train GCN\n",
        "# Inicializar el modelo\n",
        "gcn3 = GCN3(dataset.num_features, 16, dataset.num_classes)\n",
        "\n",
        "# Entrenar el modelo\n",
        "gcn3.fit(data, epochs=100)\n",
        "# Evaluar el modelo\n",
        "accuracyGCN3 = gcn3.test(data)\n",
        "print(f'\\nGCN test accuracy: {accuracyGCN3 * 100:.2f}%\\n')"
      ]
    },
    {
      "cell_type": "markdown",
      "metadata": {
        "id": "Ij6-lztiRG0A"
      },
      "source": [
        "## 3. Graph Attention Convolution Network (GAT)"
      ]
    },
    {
      "cell_type": "markdown",
      "source": [
        "### Attention con 2 capas"
      ],
      "metadata": {
        "id": "lpyUMfHPLJZ8"
      }
    },
    {
      "cell_type": "code",
      "execution_count": null,
      "metadata": {
        "id": "QHCLPKpGRG0A"
      },
      "outputs": [],
      "source": [
        "import torch\n",
        "torch.manual_seed(1)\n",
        "import torch.nn.functional as F\n",
        "from torch_geometric.nn import GATv2Conv, GCNConv\n",
        "from torch.nn import Linear, Dropout\n",
        "from torch_geometric.datasets import Amazon\n",
        "\n",
        "# Import dataset from PyTorch Geometric\n",
        "dataset = Amazon(root=\".\", name=\"Computers\")\n",
        "\n",
        "# Access the first data instance\n",
        "data = dataset[0]\n",
        "\n",
        "# Define train, validation, and test masks\n",
        "num_nodes = data.num_nodes\n",
        "train_mask = torch.arange(int(num_nodes*0.6))\n",
        "test_mask = torch.arange(int(num_nodes*0.6), int(num_nodes*0.9))\n",
        "val_mask = torch.arange(int(num_nodes*0.9), num_nodes)\n",
        "# Apply the masks to the data\n",
        "data.train_mask = train_mask\n",
        "data.val_mask = val_mask\n",
        "data.test_mask = test_mask\n",
        "\n",
        "# Definicion de metrica\n",
        "def accuracy(y_pred, y_true):\n",
        "    \"\"\"Calculate accuracy.\"\"\"\n",
        "    return torch.sum(y_pred == y_true) / len(y_true)\n",
        "\n",
        "# Inicializacion de la clase\n",
        "class GAT0(torch.nn.Module):\n",
        "    def __init__(self, dim_in, dim_h, dim_out, heads=8):\n",
        "        super().__init__()\n",
        "        self.gat1 = GATv2Conv(dim_in, dim_h, heads=heads)\n",
        "        self.gat2 = GATv2Conv(dim_h*heads, dim_out, heads=1)\n",
        "\n",
        "# Funcion para foward\n",
        "def forward(self, x, edge_index):\n",
        "    h = F.dropout(x, p=0.6, training=self.training)\n",
        "    h = self.gat1(h, edge_index)\n",
        "    h = F.elu(h)\n",
        "    h = F.dropout(h, p=0.6, training=self.training)\n",
        "    h = self.gat2(h, edge_index)\n",
        "    return F.log_softmax(h, dim=1)\n",
        "GAT0.forward = forward\n",
        "\n",
        "# Funcion para fit\n",
        "def fit(self, data, epochs):\n",
        "    criterion = torch.nn.CrossEntropyLoss()\n",
        "    optimizer = torch.optim.Adam(self.parameters(), lr=0.01, weight_decay=0.01)\n",
        "    self.train()\n",
        "    for epoch in range(epochs+1):\n",
        "        optimizer.zero_grad()\n",
        "        out = self(data.x, data.edge_index)\n",
        "        loss = criterion(out[data.train_mask], data.y[data.train_mask])\n",
        "        acc = accuracy(out[data.train_mask].argmax(dim=1), data.y[data.train_mask])\n",
        "        loss.backward()\n",
        "        optimizer.step()\n",
        "        if(epoch % 20 == 0):\n",
        "            val_loss = criterion(out[data.val_mask], data.y[data.val_mask])\n",
        "            val_acc = accuracy(out[data.val_mask].argmax(dim=1), data.y[data.val_mask])\n",
        "            print(f'Epoch {epoch:>3} | Train Loss: {loss:.3f} | Train Acc: {acc*100:>5.2f}% | Val Loss: {val_loss:.2f} | Val Acc: {val_acc*100:.2f}%')\n",
        "GAT0.fit = fit\n",
        "\n",
        "# Funcion para test\n",
        "@torch.no_grad()\n",
        "def test(self, data):\n",
        "    self.eval()\n",
        "    out = self(data.x, data.edge_index)\n",
        "    acc = accuracy(out.argmax(dim=1)[data.test_mask], data.y[data.test_mask])\n",
        "    return acc\n",
        "GAT0.test = test\n",
        "\n",
        "# Create the Vanilla GNN model\n",
        "gat0 = GAT0(dataset.num_features, 32, dataset.num_classes)\n",
        "print(gat0)\n",
        "\n",
        "# Entrenamiento\n",
        "gat0.fit(data, epochs=100)\n",
        "\n",
        "# Test\n",
        "acc = gat0.test(data)\n",
        "print(f'GAT test accuracy: {acc*100:.2f}%')"
      ]
    },
    {
      "cell_type": "markdown",
      "metadata": {
        "id": "auyXuM4hRG0A"
      },
      "source": [
        "### Attention con multiples capas intermedias\n",
        "- Con n capas intermedias"
      ]
    },
    {
      "cell_type": "code",
      "execution_count": null,
      "metadata": {
        "id": "mqtkqKwORG0A"
      },
      "outputs": [],
      "source": [
        "import torch\n",
        "torch.manual_seed(1)\n",
        "import torch.nn.functional as F\n",
        "from torch_geometric.nn import GATv2Conv, GCNConv\n",
        "from torch.nn import Linear, Dropout\n",
        "from torch_geometric.datasets import Amazon\n",
        "\n",
        "# Import dataset from PyTorch Geometric\n",
        "dataset = Amazon(root=\".\", name=\"Computers\")\n",
        "# Access the first data instance\n",
        "data = dataset[0]\n",
        "# Define train, validation, and test masks\n",
        "num_nodes = data.num_nodes\n",
        "train_mask = torch.arange(int(num_nodes*0.6))\n",
        "test_mask = torch.arange(int(num_nodes*0.6), int(num_nodes*0.9))\n",
        "val_mask = torch.arange(int(num_nodes*0.9), num_nodes)\n",
        "# Apply the masks to the data\n",
        "data.train_mask = train_mask\n",
        "data.val_mask = val_mask\n",
        "data.test_mask = test_mask\n",
        "\n",
        "# Definicion de metrica\n",
        "def accuracy(y_pred, y_true):\n",
        "    \"\"\"Calculate accuracy.\"\"\"\n",
        "    return torch.sum(y_pred == y_true) / len(y_true)\n",
        "\n",
        "# Modelo\n",
        "class GAT1(torch.nn.Module):\n",
        "    def __init__(self, dim_in, dim_h, dim_out, num_layers=3, heads=8):\n",
        "        super().__init__()\n",
        "        self.num_layers = num_layers\n",
        "\n",
        "        # Primera capa GAT\n",
        "        self.gat_layers = torch.nn.ModuleList()\n",
        "        self.gat_layers.append(GATv2Conv(dim_in, dim_h, heads=heads))\n",
        "\n",
        "        # Capas intermedias GAT\n",
        "        for _ in range(num_layers - 2):\n",
        "            self.gat_layers.append(GATv2Conv(dim_h * heads, dim_h, heads=heads))\n",
        "\n",
        "        # Última capa GAT\n",
        "        self.gat_layers.append(GATv2Conv(dim_h * heads, dim_out, heads=1))\n",
        "\n",
        "        # Dropout\n",
        "        self.dropout = Dropout(p=0.6)\n",
        "\n",
        "    def forward(self, x, edge_index):\n",
        "        h = x\n",
        "        for i, gat_layer in enumerate(self.gat_layers):\n",
        "            h = self.dropout(h)\n",
        "            h = gat_layer(h, edge_index)\n",
        "            if i < self.num_layers - 1:\n",
        "                h = F.elu(h)\n",
        "        return F.log_softmax(h, dim=1)\n",
        "\n",
        "# Funcion para fit\n",
        "def fit(self, data, epochs):\n",
        "    criterion = torch.nn.CrossEntropyLoss()\n",
        "    optimizer = torch.optim.Adam(self.parameters(), lr=0.01, weight_decay=0.01)\n",
        "    self.train()\n",
        "    for epoch in range(epochs+1):\n",
        "        optimizer.zero_grad()\n",
        "        out = self(data.x, data.edge_index)\n",
        "        loss = criterion(out[data.train_mask], data.y[data.train_mask])\n",
        "        acc = accuracy(out[data.train_mask].argmax(dim=1), data.y[data.train_mask])\n",
        "        loss.backward()\n",
        "        optimizer.step()\n",
        "        if(epoch % 20 == 0):\n",
        "            val_loss = criterion(out[data.val_mask], data.y[data.val_mask])\n",
        "            val_acc = accuracy(out[data.val_mask].argmax(dim=1), data.y[data.val_mask])\n",
        "            print(f'Epoch {epoch:>3} | Train Loss: {loss:.3f} | Train Acc: {acc*100:>5.2f}% | Val Loss: {val_loss:.2f} | Val Acc: {val_acc*100:.2f}%')\n",
        "GAT1.fit = fit\n",
        "\n",
        "# Funcion para test\n",
        "@torch.no_grad()\n",
        "def test(self, data):\n",
        "    self.eval()\n",
        "    out = self(data.x, data.edge_index)\n",
        "    acc = accuracy(out.argmax(dim=1)[data.test_mask], data.y[data.test_mask])\n",
        "    return acc\n",
        "GAT1.test = test\n",
        "\n",
        "# Create the Vanilla GNN model\n",
        "gat1 = GAT1(dataset.num_features, 32, dataset.num_classes)\n",
        "print(gat1)\n",
        "\n",
        "# Entrenamiento\n",
        "gat1.fit(data, epochs=100)\n",
        "\n",
        "# Test\n",
        "acc = gat1.test(data)\n",
        "print(f'GAT test accuracy: {acc*100:.2f}%')"
      ]
    },
    {
      "cell_type": "markdown",
      "source": [
        "## 4. Análisis de mejor modelo: (GAT 2 capas)\n",
        "\n",
        "(Correr primero modelo GAT sin capas intermedias)"
      ],
      "metadata": {
        "id": "BV8XJgNNLeWF"
      }
    },
    {
      "cell_type": "code",
      "source": [
        "import numpy as np\n",
        "import matplotlib.pyplot as plt\n",
        "import seaborn as sns\n",
        "from sklearn.metrics import confusion_matrix\n",
        "\n",
        "# Asumiendo que tu modelo y datos ya están en el dispositivo correcto\n",
        "gat0.eval()  # Establecer el modelo en modo evaluación\n",
        "\n",
        "with torch.no_grad():\n",
        "    logits = gat0(data.x, data.edge_index)  # Logits son las salidas del modelo antes de la activación softmax\n",
        "    predictions = logits.argmax(dim=1)  # Obtener la clase predicha\n",
        "\n",
        "# Etiquetas reales\n",
        "true_labels = data.y\n",
        "\n",
        "# Verificar que estén en la CPU para trabajar con numpy\n",
        "if predictions.is_cuda:\n",
        "    predictions = predictions.cpu()\n",
        "if true_labels.is_cuda:\n",
        "    true_labels = true_labels.cpu()\n",
        "\n",
        "predictions = predictions.numpy()\n",
        "true_labels = true_labels.numpy()\n",
        "\n",
        "# Calcular la matriz de confusión\n",
        "conf_mat = confusion_matrix(true_labels, predictions, labels=np.arange(dataset.num_classes))\n",
        "\n",
        "# Normalizar la matriz de confusión por filas\n",
        "conf_mat_normalized = conf_mat.astype('float') / conf_mat.sum(axis=1)[:, np.newaxis]"
      ],
      "metadata": {
        "id": "8EttfHjXLnr4"
      },
      "execution_count": null,
      "outputs": []
    },
    {
      "cell_type": "code",
      "source": [
        "plt.figure(figsize=(10, 8))\n",
        "sns.heatmap(conf_mat_normalized, annot=True, fmt=\".2%\", cmap='Blues', cbar=False, xticklabels=range(1, dataset.num_classes+1), yticklabels=range(1, dataset.num_classes+1))\n",
        "plt.xlabel('Predicted Labels')\n",
        "plt.ylabel('True Labels')\n",
        "plt.title('Normalized Confusion Matrix - Heatmap')\n",
        "plt.show()"
      ],
      "metadata": {
        "id": "Qf6GLjaMMDVd"
      },
      "execution_count": null,
      "outputs": []
    }
  ],
  "metadata": {
    "accelerator": "GPU",
    "colab": {
      "gpuType": "T4",
      "provenance": [],
      "collapsed_sections": [
        "B6e4kzXsRGzt",
        "13gwqvQyRG0A",
        "DHkc8Hk5JeKy",
        "sxjOXV67Jhqu",
        "9dL4ZSQqRG0B",
        "3RxE-zwORG0B",
        "Ij6-lztiRG0A",
        "BV8XJgNNLeWF"
      ]
    },
    "kernelspec": {
      "display_name": "Python 3",
      "name": "python3"
    },
    "language_info": {
      "codemirror_mode": {
        "name": "ipython",
        "version": 3
      },
      "file_extension": ".py",
      "mimetype": "text/x-python",
      "name": "python",
      "nbconvert_exporter": "python",
      "pygments_lexer": "ipython3",
      "version": "3.11.6"
    }
  },
  "nbformat": 4,
  "nbformat_minor": 0
}